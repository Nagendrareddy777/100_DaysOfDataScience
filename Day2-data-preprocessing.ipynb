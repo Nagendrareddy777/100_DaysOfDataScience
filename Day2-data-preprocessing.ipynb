{
 "cells": [
  {
   "cell_type": "code",
   "execution_count": 1,
   "id": "142bf1d0",
   "metadata": {
    "_cell_guid": "b1076dfc-b9ad-4769-8c92-a6c4dae69d19",
    "_uuid": "8f2839f25d086af736a60e9eeb907d3b93b6e0e5",
    "execution": {
     "iopub.execute_input": "2024-04-23T17:26:16.764796Z",
     "iopub.status.busy": "2024-04-23T17:26:16.764063Z",
     "iopub.status.idle": "2024-04-23T17:26:17.792838Z",
     "shell.execute_reply": "2024-04-23T17:26:17.791544Z"
    },
    "papermill": {
     "duration": 1.049472,
     "end_time": "2024-04-23T17:26:17.795885",
     "exception": false,
     "start_time": "2024-04-23T17:26:16.746413",
     "status": "completed"
    },
    "tags": []
   },
   "outputs": [
    {
     "name": "stdout",
     "output_type": "stream",
     "text": [
      "/kaggle/input/house-price/House_Price.csv\n"
     ]
    }
   ],
   "source": [
    "#data preprocessing : making the efficient data useful for making a machine learning model by cleaning data,formatting data,\n",
    "#apply feature engineering..etc\n",
    "import numpy as np \n",
    "import pandas as pd  \n",
    "import warnings\n",
    "\n",
    "import os\n",
    "for dirname, _, filenames in os.walk('/kaggle/input'):\n",
    "    for filename in filenames:\n",
    "        print(os.path.join(dirname, filename))\n"
   ]
  },
  {
   "cell_type": "code",
   "execution_count": 2,
   "id": "1274fe39",
   "metadata": {
    "execution": {
     "iopub.execute_input": "2024-04-23T17:26:17.828133Z",
     "iopub.status.busy": "2024-04-23T17:26:17.827578Z",
     "iopub.status.idle": "2024-04-23T17:26:17.832466Z",
     "shell.execute_reply": "2024-04-23T17:26:17.831229Z"
    },
    "papermill": {
     "duration": 0.023745,
     "end_time": "2024-04-23T17:26:17.834860",
     "exception": false,
     "start_time": "2024-04-23T17:26:17.811115",
     "status": "completed"
    },
    "tags": []
   },
   "outputs": [],
   "source": [
    "#to avoid warnings messages\n",
    "warnings.filterwarnings(\"ignore\")"
   ]
  },
  {
   "cell_type": "code",
   "execution_count": 3,
   "id": "821dd5a7",
   "metadata": {
    "execution": {
     "iopub.execute_input": "2024-04-23T17:26:17.867357Z",
     "iopub.status.busy": "2024-04-23T17:26:17.866821Z",
     "iopub.status.idle": "2024-04-23T17:26:17.871974Z",
     "shell.execute_reply": "2024-04-23T17:26:17.870625Z"
    },
    "papermill": {
     "duration": 0.024695,
     "end_time": "2024-04-23T17:26:17.874434",
     "exception": false,
     "start_time": "2024-04-23T17:26:17.849739",
     "status": "completed"
    },
    "tags": []
   },
   "outputs": [],
   "source": [
    "filepath=\"/kaggle/input/house-price/House_Price.csv\"\n"
   ]
  },
  {
   "cell_type": "code",
   "execution_count": 4,
   "id": "30876296",
   "metadata": {
    "execution": {
     "iopub.execute_input": "2024-04-23T17:26:17.907644Z",
     "iopub.status.busy": "2024-04-23T17:26:17.906999Z",
     "iopub.status.idle": "2024-04-23T17:26:17.965506Z",
     "shell.execute_reply": "2024-04-23T17:26:17.964207Z"
    },
    "papermill": {
     "duration": 0.077513,
     "end_time": "2024-04-23T17:26:17.968183",
     "exception": false,
     "start_time": "2024-04-23T17:26:17.890670",
     "status": "completed"
    },
    "tags": []
   },
   "outputs": [],
   "source": [
    "df=pd.read_csv(filepath)"
   ]
  },
  {
   "cell_type": "code",
   "execution_count": 5,
   "id": "ce410a0a",
   "metadata": {
    "execution": {
     "iopub.execute_input": "2024-04-23T17:26:18.001066Z",
     "iopub.status.busy": "2024-04-23T17:26:17.999995Z",
     "iopub.status.idle": "2024-04-23T17:26:18.032919Z",
     "shell.execute_reply": "2024-04-23T17:26:18.031565Z"
    },
    "papermill": {
     "duration": 0.052386,
     "end_time": "2024-04-23T17:26:18.035613",
     "exception": false,
     "start_time": "2024-04-23T17:26:17.983227",
     "status": "completed"
    },
    "tags": []
   },
   "outputs": [
    {
     "data": {
      "text/html": [
       "<div>\n",
       "<style scoped>\n",
       "    .dataframe tbody tr th:only-of-type {\n",
       "        vertical-align: middle;\n",
       "    }\n",
       "\n",
       "    .dataframe tbody tr th {\n",
       "        vertical-align: top;\n",
       "    }\n",
       "\n",
       "    .dataframe thead th {\n",
       "        text-align: right;\n",
       "    }\n",
       "</style>\n",
       "<table border=\"1\" class=\"dataframe\">\n",
       "  <thead>\n",
       "    <tr style=\"text-align: right;\">\n",
       "      <th></th>\n",
       "      <th>Flat_Price</th>\n",
       "      <th>EMI_Starts</th>\n",
       "      <th>BHK</th>\n",
       "      <th>css-11nfaq3</th>\n",
       "      <th>Unnamed: 4</th>\n",
       "      <th>HOUSE_TYPE</th>\n",
       "      <th>Unnamed: 6</th>\n",
       "      <th>Unnamed: 7</th>\n",
       "      <th>Purpose</th>\n",
       "      <th>Location</th>\n",
       "      <th>Area_Type</th>\n",
       "      <th>Total_Sq.ft</th>\n",
       "      <th>Price_per_sq.ft</th>\n",
       "      <th>Owner_name</th>\n",
       "      <th>Owner_type</th>\n",
       "    </tr>\n",
       "  </thead>\n",
       "  <tbody>\n",
       "    <tr>\n",
       "      <th>0</th>\n",
       "      <td>₹8.5 Cr</td>\n",
       "      <td>₹4.22 Lacs</td>\n",
       "      <td>6 BHK</td>\n",
       "      <td>6.0</td>\n",
       "      <td>BHK</td>\n",
       "      <td>Independent House</td>\n",
       "      <td>Independent</td>\n",
       "      <td>House</td>\n",
       "      <td>for sale in</td>\n",
       "      <td>Ballygunge, Kolkata</td>\n",
       "      <td>Build Up Area</td>\n",
       "      <td>4200 sq.ft</td>\n",
       "      <td>₹20.24 K/sq.ft</td>\n",
       "      <td>Abhijit Chakraborty</td>\n",
       "      <td>Housing Expert</td>\n",
       "    </tr>\n",
       "    <tr>\n",
       "      <th>1</th>\n",
       "      <td>₹45.0 L</td>\n",
       "      <td>₹23.83 K</td>\n",
       "      <td>3 BHK</td>\n",
       "      <td>3.0</td>\n",
       "      <td>BHK</td>\n",
       "      <td>Independent House</td>\n",
       "      <td>Independent</td>\n",
       "      <td>House</td>\n",
       "      <td>for sale in</td>\n",
       "      <td>Barrackpore, Kolkata</td>\n",
       "      <td>Build Up Area</td>\n",
       "      <td>1400 sq.ft</td>\n",
       "      <td>₹3.21 K/sq.ft</td>\n",
       "      <td>Virtual Reality</td>\n",
       "      <td>Housing Expert</td>\n",
       "    </tr>\n",
       "    <tr>\n",
       "      <th>2</th>\n",
       "      <td>₹1.35 Cr</td>\n",
       "      <td>₹67.02 K</td>\n",
       "      <td>3 BHK</td>\n",
       "      <td>3.0</td>\n",
       "      <td>BHK</td>\n",
       "      <td>Independent House</td>\n",
       "      <td>Independent</td>\n",
       "      <td>House</td>\n",
       "      <td>for sale in</td>\n",
       "      <td>Santoshpur, Kolkata</td>\n",
       "      <td>Build Up Area</td>\n",
       "      <td>2500 sq.ft</td>\n",
       "      <td>₹5.40 K/sq.ft</td>\n",
       "      <td>AveNew Properties</td>\n",
       "      <td>Housing Expert</td>\n",
       "    </tr>\n",
       "    <tr>\n",
       "      <th>3</th>\n",
       "      <td>₹60.0 L</td>\n",
       "      <td>₹31.77 K</td>\n",
       "      <td>5 BHK</td>\n",
       "      <td>5.0</td>\n",
       "      <td>BHK</td>\n",
       "      <td>Independent House</td>\n",
       "      <td>Independent</td>\n",
       "      <td>House</td>\n",
       "      <td>for sale in</td>\n",
       "      <td>Sarsuna, Kolkata</td>\n",
       "      <td>Build Up Area</td>\n",
       "      <td>1100 sq.ft</td>\n",
       "      <td>₹5.45 K/sq.ft</td>\n",
       "      <td>Ganapati Real Estate</td>\n",
       "      <td>Housing Expert</td>\n",
       "    </tr>\n",
       "    <tr>\n",
       "      <th>4</th>\n",
       "      <td>₹52.0 L</td>\n",
       "      <td>₹27.54 K</td>\n",
       "      <td>4 BHK</td>\n",
       "      <td>4.0</td>\n",
       "      <td>BHK</td>\n",
       "      <td>Independent House</td>\n",
       "      <td>Independent</td>\n",
       "      <td>House</td>\n",
       "      <td>for sale in</td>\n",
       "      <td>Madhyamgram, Kolkata</td>\n",
       "      <td>Build Up Area</td>\n",
       "      <td>900 sq.ft</td>\n",
       "      <td>₹5.78 K/sq.ft</td>\n",
       "      <td>Third Eye Consulting</td>\n",
       "      <td>Housing Expert</td>\n",
       "    </tr>\n",
       "  </tbody>\n",
       "</table>\n",
       "</div>"
      ],
      "text/plain": [
       "  Flat_Price  EMI_Starts    BHK  css-11nfaq3 Unnamed: 4         HOUSE_TYPE  \\\n",
       "0    ₹8.5 Cr  ₹4.22 Lacs  6 BHK          6.0        BHK  Independent House   \n",
       "1    ₹45.0 L    ₹23.83 K  3 BHK          3.0        BHK  Independent House   \n",
       "2   ₹1.35 Cr    ₹67.02 K  3 BHK          3.0        BHK  Independent House   \n",
       "3    ₹60.0 L    ₹31.77 K  5 BHK          5.0        BHK  Independent House   \n",
       "4    ₹52.0 L    ₹27.54 K  4 BHK          4.0        BHK  Independent House   \n",
       "\n",
       "    Unnamed: 6 Unnamed: 7      Purpose              Location      Area_Type  \\\n",
       "0  Independent      House  for sale in   Ballygunge, Kolkata  Build Up Area   \n",
       "1  Independent      House  for sale in  Barrackpore, Kolkata  Build Up Area   \n",
       "2  Independent      House  for sale in   Santoshpur, Kolkata  Build Up Area   \n",
       "3  Independent      House  for sale in      Sarsuna, Kolkata  Build Up Area   \n",
       "4  Independent      House  for sale in  Madhyamgram, Kolkata  Build Up Area   \n",
       "\n",
       "  Total_Sq.ft Price_per_sq.ft            Owner_name      Owner_type  \n",
       "0  4200 sq.ft  ₹20.24 K/sq.ft   Abhijit Chakraborty  Housing Expert  \n",
       "1  1400 sq.ft   ₹3.21 K/sq.ft       Virtual Reality  Housing Expert  \n",
       "2  2500 sq.ft   ₹5.40 K/sq.ft     AveNew Properties  Housing Expert  \n",
       "3  1100 sq.ft   ₹5.45 K/sq.ft  Ganapati Real Estate  Housing Expert  \n",
       "4   900 sq.ft   ₹5.78 K/sq.ft  Third Eye Consulting  Housing Expert  "
      ]
     },
     "execution_count": 5,
     "metadata": {},
     "output_type": "execute_result"
    }
   ],
   "source": [
    "df.head()"
   ]
  },
  {
   "cell_type": "code",
   "execution_count": 6,
   "id": "0d035fb8",
   "metadata": {
    "execution": {
     "iopub.execute_input": "2024-04-23T17:26:18.069702Z",
     "iopub.status.busy": "2024-04-23T17:26:18.068612Z",
     "iopub.status.idle": "2024-04-23T17:26:18.075995Z",
     "shell.execute_reply": "2024-04-23T17:26:18.074920Z"
    },
    "papermill": {
     "duration": 0.026756,
     "end_time": "2024-04-23T17:26:18.078406",
     "exception": false,
     "start_time": "2024-04-23T17:26:18.051650",
     "status": "completed"
    },
    "tags": []
   },
   "outputs": [
    {
     "data": {
      "text/plain": [
       "(3968, 15)"
      ]
     },
     "execution_count": 6,
     "metadata": {},
     "output_type": "execute_result"
    }
   ],
   "source": [
    "df.shape"
   ]
  },
  {
   "cell_type": "code",
   "execution_count": 7,
   "id": "05360523",
   "metadata": {
    "execution": {
     "iopub.execute_input": "2024-04-23T17:26:18.111274Z",
     "iopub.status.busy": "2024-04-23T17:26:18.110894Z",
     "iopub.status.idle": "2024-04-23T17:26:18.118477Z",
     "shell.execute_reply": "2024-04-23T17:26:18.117313Z"
    },
    "papermill": {
     "duration": 0.026766,
     "end_time": "2024-04-23T17:26:18.120732",
     "exception": false,
     "start_time": "2024-04-23T17:26:18.093966",
     "status": "completed"
    },
    "tags": []
   },
   "outputs": [
    {
     "data": {
      "text/plain": [
       "Index(['Flat_Price', 'EMI_Starts', 'BHK', 'css-11nfaq3', 'Unnamed: 4',\n",
       "       'HOUSE_TYPE', 'Unnamed: 6', 'Unnamed: 7', 'Purpose', 'Location',\n",
       "       'Area_Type', 'Total_Sq.ft', 'Price_per_sq.ft', 'Owner_name',\n",
       "       'Owner_type'],\n",
       "      dtype='object')"
      ]
     },
     "execution_count": 7,
     "metadata": {},
     "output_type": "execute_result"
    }
   ],
   "source": [
    "df.columns"
   ]
  },
  {
   "cell_type": "code",
   "execution_count": 8,
   "id": "763526f5",
   "metadata": {
    "execution": {
     "iopub.execute_input": "2024-04-23T17:26:18.153715Z",
     "iopub.status.busy": "2024-04-23T17:26:18.153342Z",
     "iopub.status.idle": "2024-04-23T17:26:18.164321Z",
     "shell.execute_reply": "2024-04-23T17:26:18.163045Z"
    },
    "papermill": {
     "duration": 0.030643,
     "end_time": "2024-04-23T17:26:18.166985",
     "exception": false,
     "start_time": "2024-04-23T17:26:18.136342",
     "status": "completed"
    },
    "tags": []
   },
   "outputs": [],
   "source": [
    "#removing the columns which are not useful for making a model\n",
    "df.drop(columns=[\"css-11nfaq3\",\"Unnamed: 4\",\"Unnamed: 6\",\"Unnamed: 7\"],axis=1,inplace=True)"
   ]
  },
  {
   "cell_type": "code",
   "execution_count": 9,
   "id": "fcdf726b",
   "metadata": {
    "execution": {
     "iopub.execute_input": "2024-04-23T17:26:18.200359Z",
     "iopub.status.busy": "2024-04-23T17:26:18.199950Z",
     "iopub.status.idle": "2024-04-23T17:26:18.218004Z",
     "shell.execute_reply": "2024-04-23T17:26:18.216849Z"
    },
    "papermill": {
     "duration": 0.038005,
     "end_time": "2024-04-23T17:26:18.220727",
     "exception": false,
     "start_time": "2024-04-23T17:26:18.182722",
     "status": "completed"
    },
    "tags": []
   },
   "outputs": [
    {
     "data": {
      "text/html": [
       "<div>\n",
       "<style scoped>\n",
       "    .dataframe tbody tr th:only-of-type {\n",
       "        vertical-align: middle;\n",
       "    }\n",
       "\n",
       "    .dataframe tbody tr th {\n",
       "        vertical-align: top;\n",
       "    }\n",
       "\n",
       "    .dataframe thead th {\n",
       "        text-align: right;\n",
       "    }\n",
       "</style>\n",
       "<table border=\"1\" class=\"dataframe\">\n",
       "  <thead>\n",
       "    <tr style=\"text-align: right;\">\n",
       "      <th></th>\n",
       "      <th>Flat_Price</th>\n",
       "      <th>EMI_Starts</th>\n",
       "      <th>BHK</th>\n",
       "      <th>HOUSE_TYPE</th>\n",
       "      <th>Purpose</th>\n",
       "      <th>Location</th>\n",
       "      <th>Area_Type</th>\n",
       "      <th>Total_Sq.ft</th>\n",
       "      <th>Price_per_sq.ft</th>\n",
       "      <th>Owner_name</th>\n",
       "      <th>Owner_type</th>\n",
       "    </tr>\n",
       "  </thead>\n",
       "  <tbody>\n",
       "    <tr>\n",
       "      <th>3963</th>\n",
       "      <td>₹13.0 L</td>\n",
       "      <td>₹6.88 K</td>\n",
       "      <td>2 BHK</td>\n",
       "      <td>Independent House</td>\n",
       "      <td>for sale in</td>\n",
       "      <td>Picnic Garden, Kolkata</td>\n",
       "      <td>Build Up Area</td>\n",
       "      <td>1500 sq.ft</td>\n",
       "      <td>₹866/sq.ft</td>\n",
       "      <td>Goutam Dey</td>\n",
       "      <td>Owner</td>\n",
       "    </tr>\n",
       "    <tr>\n",
       "      <th>3964</th>\n",
       "      <td>₹1.5 Cr</td>\n",
       "      <td>₹74.47 K</td>\n",
       "      <td>8 BHK</td>\n",
       "      <td>Independent House</td>\n",
       "      <td>for sale in</td>\n",
       "      <td>Rajpur Sonarpur, Kolkata</td>\n",
       "      <td>Build Up Area</td>\n",
       "      <td>2560 sq.ft</td>\n",
       "      <td>₹5.86 K/sq.ft</td>\n",
       "      <td>Alak Kumar Roy</td>\n",
       "      <td>Owner</td>\n",
       "    </tr>\n",
       "    <tr>\n",
       "      <th>3965</th>\n",
       "      <td>₹50.0 L</td>\n",
       "      <td>₹26.48 K</td>\n",
       "      <td>5 BHK</td>\n",
       "      <td>Independent House</td>\n",
       "      <td>for sale in</td>\n",
       "      <td>Amtala, Kolkata</td>\n",
       "      <td>Build Up Area</td>\n",
       "      <td>1900 sq.ft</td>\n",
       "      <td>₹2.63 K/sq.ft</td>\n",
       "      <td>Sarishma</td>\n",
       "      <td>Owner</td>\n",
       "    </tr>\n",
       "    <tr>\n",
       "      <th>3966</th>\n",
       "      <td>₹1.1 Cr</td>\n",
       "      <td>₹54.61 K</td>\n",
       "      <td>5 BHK</td>\n",
       "      <td>Independent House</td>\n",
       "      <td>for sale in</td>\n",
       "      <td>Tollygunge, Kolkata</td>\n",
       "      <td>Build Up Area</td>\n",
       "      <td>2600 sq.ft</td>\n",
       "      <td>₹4.23 K/sq.ft</td>\n",
       "      <td>MEDIATOR REALTORS</td>\n",
       "      <td>Agent</td>\n",
       "    </tr>\n",
       "    <tr>\n",
       "      <th>3967</th>\n",
       "      <td>₹30.0 L</td>\n",
       "      <td>₹15.89 K</td>\n",
       "      <td>2 BHK</td>\n",
       "      <td>Independent House</td>\n",
       "      <td>for sale in</td>\n",
       "      <td>Naihati, Kolkata</td>\n",
       "      <td>Build Up Area</td>\n",
       "      <td>950 sq.ft</td>\n",
       "      <td>₹3.16 K/sq.ft</td>\n",
       "      <td>S Mukherjee</td>\n",
       "      <td>Owner</td>\n",
       "    </tr>\n",
       "  </tbody>\n",
       "</table>\n",
       "</div>"
      ],
      "text/plain": [
       "     Flat_Price EMI_Starts    BHK         HOUSE_TYPE      Purpose  \\\n",
       "3963    ₹13.0 L    ₹6.88 K  2 BHK  Independent House  for sale in   \n",
       "3964    ₹1.5 Cr   ₹74.47 K  8 BHK  Independent House  for sale in   \n",
       "3965    ₹50.0 L   ₹26.48 K  5 BHK  Independent House  for sale in   \n",
       "3966    ₹1.1 Cr   ₹54.61 K  5 BHK  Independent House  for sale in   \n",
       "3967    ₹30.0 L   ₹15.89 K  2 BHK  Independent House  for sale in   \n",
       "\n",
       "                      Location      Area_Type Total_Sq.ft Price_per_sq.ft  \\\n",
       "3963    Picnic Garden, Kolkata  Build Up Area  1500 sq.ft      ₹866/sq.ft   \n",
       "3964  Rajpur Sonarpur, Kolkata  Build Up Area  2560 sq.ft   ₹5.86 K/sq.ft   \n",
       "3965           Amtala, Kolkata  Build Up Area  1900 sq.ft   ₹2.63 K/sq.ft   \n",
       "3966       Tollygunge, Kolkata  Build Up Area  2600 sq.ft   ₹4.23 K/sq.ft   \n",
       "3967          Naihati, Kolkata  Build Up Area   950 sq.ft   ₹3.16 K/sq.ft   \n",
       "\n",
       "             Owner_name Owner_type  \n",
       "3963         Goutam Dey      Owner  \n",
       "3964     Alak Kumar Roy      Owner  \n",
       "3965           Sarishma      Owner  \n",
       "3966  MEDIATOR REALTORS      Agent  \n",
       "3967        S Mukherjee      Owner  "
      ]
     },
     "execution_count": 9,
     "metadata": {},
     "output_type": "execute_result"
    }
   ],
   "source": [
    "df.tail()"
   ]
  },
  {
   "cell_type": "code",
   "execution_count": 10,
   "id": "c50e49d9",
   "metadata": {
    "execution": {
     "iopub.execute_input": "2024-04-23T17:26:18.256058Z",
     "iopub.status.busy": "2024-04-23T17:26:18.255636Z",
     "iopub.status.idle": "2024-04-23T17:26:18.261685Z",
     "shell.execute_reply": "2024-04-23T17:26:18.260921Z"
    },
    "papermill": {
     "duration": 0.02694,
     "end_time": "2024-04-23T17:26:18.263631",
     "exception": false,
     "start_time": "2024-04-23T17:26:18.236691",
     "status": "completed"
    },
    "tags": []
   },
   "outputs": [
    {
     "data": {
      "text/plain": [
       "(3968, 11)"
      ]
     },
     "execution_count": 10,
     "metadata": {},
     "output_type": "execute_result"
    }
   ],
   "source": [
    "df.shape"
   ]
  },
  {
   "cell_type": "code",
   "execution_count": 11,
   "id": "f395816d",
   "metadata": {
    "execution": {
     "iopub.execute_input": "2024-04-23T17:26:18.297989Z",
     "iopub.status.busy": "2024-04-23T17:26:18.297329Z",
     "iopub.status.idle": "2024-04-23T17:26:18.346064Z",
     "shell.execute_reply": "2024-04-23T17:26:18.345221Z"
    },
    "papermill": {
     "duration": 0.068387,
     "end_time": "2024-04-23T17:26:18.348467",
     "exception": false,
     "start_time": "2024-04-23T17:26:18.280080",
     "status": "completed"
    },
    "tags": []
   },
   "outputs": [
    {
     "data": {
      "text/html": [
       "<div>\n",
       "<style scoped>\n",
       "    .dataframe tbody tr th:only-of-type {\n",
       "        vertical-align: middle;\n",
       "    }\n",
       "\n",
       "    .dataframe tbody tr th {\n",
       "        vertical-align: top;\n",
       "    }\n",
       "\n",
       "    .dataframe thead th {\n",
       "        text-align: right;\n",
       "    }\n",
       "</style>\n",
       "<table border=\"1\" class=\"dataframe\">\n",
       "  <thead>\n",
       "    <tr style=\"text-align: right;\">\n",
       "      <th></th>\n",
       "      <th>Flat_Price</th>\n",
       "      <th>EMI_Starts</th>\n",
       "      <th>BHK</th>\n",
       "      <th>HOUSE_TYPE</th>\n",
       "      <th>Purpose</th>\n",
       "      <th>Location</th>\n",
       "      <th>Area_Type</th>\n",
       "      <th>Total_Sq.ft</th>\n",
       "      <th>Price_per_sq.ft</th>\n",
       "      <th>Owner_name</th>\n",
       "      <th>Owner_type</th>\n",
       "    </tr>\n",
       "  </thead>\n",
       "  <tbody>\n",
       "    <tr>\n",
       "      <th>count</th>\n",
       "      <td>3968</td>\n",
       "      <td>3968</td>\n",
       "      <td>3968</td>\n",
       "      <td>3968</td>\n",
       "      <td>3966</td>\n",
       "      <td>3966</td>\n",
       "      <td>3968</td>\n",
       "      <td>3968</td>\n",
       "      <td>3968</td>\n",
       "      <td>3958</td>\n",
       "      <td>3968</td>\n",
       "    </tr>\n",
       "    <tr>\n",
       "      <th>unique</th>\n",
       "      <td>283</td>\n",
       "      <td>280</td>\n",
       "      <td>19</td>\n",
       "      <td>2</td>\n",
       "      <td>1</td>\n",
       "      <td>201</td>\n",
       "      <td>2</td>\n",
       "      <td>410</td>\n",
       "      <td>720</td>\n",
       "      <td>1209</td>\n",
       "      <td>6</td>\n",
       "    </tr>\n",
       "    <tr>\n",
       "      <th>top</th>\n",
       "      <td>₹1.5 Cr</td>\n",
       "      <td>₹39.72 K</td>\n",
       "      <td>3 BHK</td>\n",
       "      <td>Independent House</td>\n",
       "      <td>for sale in</td>\n",
       "      <td>Salt Lake City, Kolkata</td>\n",
       "      <td>Build Up Area</td>\n",
       "      <td>3000 sq.ft</td>\n",
       "      <td>₹5.00 K/sq.ft</td>\n",
       "      <td>Avijit Chakraborty</td>\n",
       "      <td>Owner</td>\n",
       "    </tr>\n",
       "    <tr>\n",
       "      <th>freq</th>\n",
       "      <td>140</td>\n",
       "      <td>205</td>\n",
       "      <td>706</td>\n",
       "      <td>3966</td>\n",
       "      <td>3966</td>\n",
       "      <td>194</td>\n",
       "      <td>3966</td>\n",
       "      <td>222</td>\n",
       "      <td>94</td>\n",
       "      <td>144</td>\n",
       "      <td>2093</td>\n",
       "    </tr>\n",
       "  </tbody>\n",
       "</table>\n",
       "</div>"
      ],
      "text/plain": [
       "       Flat_Price EMI_Starts    BHK         HOUSE_TYPE      Purpose  \\\n",
       "count        3968       3968   3968               3968         3966   \n",
       "unique        283        280     19                  2            1   \n",
       "top       ₹1.5 Cr   ₹39.72 K  3 BHK  Independent House  for sale in   \n",
       "freq          140        205    706               3966         3966   \n",
       "\n",
       "                       Location      Area_Type Total_Sq.ft Price_per_sq.ft  \\\n",
       "count                      3966           3968        3968            3968   \n",
       "unique                      201              2         410             720   \n",
       "top     Salt Lake City, Kolkata  Build Up Area  3000 sq.ft   ₹5.00 K/sq.ft   \n",
       "freq                        194           3966         222              94   \n",
       "\n",
       "                Owner_name Owner_type  \n",
       "count                 3958       3968  \n",
       "unique                1209          6  \n",
       "top     Avijit Chakraborty      Owner  \n",
       "freq                   144       2093  "
      ]
     },
     "execution_count": 11,
     "metadata": {},
     "output_type": "execute_result"
    }
   ],
   "source": [
    "\n",
    "df.describe()"
   ]
  },
  {
   "cell_type": "code",
   "execution_count": 12,
   "id": "4f100da6",
   "metadata": {
    "execution": {
     "iopub.execute_input": "2024-04-23T17:26:18.382921Z",
     "iopub.status.busy": "2024-04-23T17:26:18.382501Z",
     "iopub.status.idle": "2024-04-23T17:26:18.388870Z",
     "shell.execute_reply": "2024-04-23T17:26:18.387802Z"
    },
    "papermill": {
     "duration": 0.026303,
     "end_time": "2024-04-23T17:26:18.391114",
     "exception": false,
     "start_time": "2024-04-23T17:26:18.364811",
     "status": "completed"
    },
    "tags": []
   },
   "outputs": [],
   "source": [
    "#droping the columns which are having same values for entire columns ,which are not useful for make a model\n",
    "df.drop(columns=[\"HOUSE_TYPE\",\"Purpose\",\"Area_Type\"],axis=1,inplace=True)"
   ]
  },
  {
   "cell_type": "code",
   "execution_count": 13,
   "id": "26d9821a",
   "metadata": {
    "execution": {
     "iopub.execute_input": "2024-04-23T17:26:18.425176Z",
     "iopub.status.busy": "2024-04-23T17:26:18.424784Z",
     "iopub.status.idle": "2024-04-23T17:26:18.431631Z",
     "shell.execute_reply": "2024-04-23T17:26:18.430546Z"
    },
    "papermill": {
     "duration": 0.026861,
     "end_time": "2024-04-23T17:26:18.434155",
     "exception": false,
     "start_time": "2024-04-23T17:26:18.407294",
     "status": "completed"
    },
    "tags": []
   },
   "outputs": [
    {
     "data": {
      "text/plain": [
       "(3968, 8)"
      ]
     },
     "execution_count": 13,
     "metadata": {},
     "output_type": "execute_result"
    }
   ],
   "source": [
    "df.shape"
   ]
  },
  {
   "cell_type": "code",
   "execution_count": 14,
   "id": "eb1795fd",
   "metadata": {
    "execution": {
     "iopub.execute_input": "2024-04-23T17:26:18.469518Z",
     "iopub.status.busy": "2024-04-23T17:26:18.468768Z",
     "iopub.status.idle": "2024-04-23T17:26:18.487550Z",
     "shell.execute_reply": "2024-04-23T17:26:18.486290Z"
    },
    "papermill": {
     "duration": 0.03943,
     "end_time": "2024-04-23T17:26:18.489996",
     "exception": false,
     "start_time": "2024-04-23T17:26:18.450566",
     "status": "completed"
    },
    "tags": []
   },
   "outputs": [
    {
     "data": {
      "text/html": [
       "<div>\n",
       "<style scoped>\n",
       "    .dataframe tbody tr th:only-of-type {\n",
       "        vertical-align: middle;\n",
       "    }\n",
       "\n",
       "    .dataframe tbody tr th {\n",
       "        vertical-align: top;\n",
       "    }\n",
       "\n",
       "    .dataframe thead th {\n",
       "        text-align: right;\n",
       "    }\n",
       "</style>\n",
       "<table border=\"1\" class=\"dataframe\">\n",
       "  <thead>\n",
       "    <tr style=\"text-align: right;\">\n",
       "      <th></th>\n",
       "      <th>Flat_Price</th>\n",
       "      <th>EMI_Starts</th>\n",
       "      <th>BHK</th>\n",
       "      <th>Location</th>\n",
       "      <th>Total_Sq.ft</th>\n",
       "      <th>Price_per_sq.ft</th>\n",
       "      <th>Owner_name</th>\n",
       "      <th>Owner_type</th>\n",
       "    </tr>\n",
       "  </thead>\n",
       "  <tbody>\n",
       "    <tr>\n",
       "      <th>347</th>\n",
       "      <td>₹50.5 L</td>\n",
       "      <td>₹26.74 K</td>\n",
       "      <td>5 BHK</td>\n",
       "      <td>Sodepur, Kolkata</td>\n",
       "      <td>1088 sq.ft</td>\n",
       "      <td>₹4.64 K/sq.ft</td>\n",
       "      <td>Reliable Realtors</td>\n",
       "      <td>Housing Expert</td>\n",
       "    </tr>\n",
       "    <tr>\n",
       "      <th>1508</th>\n",
       "      <td>₹4.1 L</td>\n",
       "      <td>₹2.17 K</td>\n",
       "      <td>2 BHK</td>\n",
       "      <td>Sewli Telinipara, Kolkata</td>\n",
       "      <td>1150 sq.ft</td>\n",
       "      <td>₹356/sq.ft</td>\n",
       "      <td>Falguni Mukherjee</td>\n",
       "      <td>Owner</td>\n",
       "    </tr>\n",
       "    <tr>\n",
       "      <th>383</th>\n",
       "      <td>₹62.55 L</td>\n",
       "      <td>₹33.12 K</td>\n",
       "      <td>3 BHK</td>\n",
       "      <td>Sodepur, Kolkata</td>\n",
       "      <td>2880 sq.ft</td>\n",
       "      <td>₹2.17 K/sq.ft</td>\n",
       "      <td>Reliable Realtors</td>\n",
       "      <td>Housing Expert</td>\n",
       "    </tr>\n",
       "    <tr>\n",
       "      <th>86</th>\n",
       "      <td>₹80.0 L</td>\n",
       "      <td>₹39.72 K</td>\n",
       "      <td>3 BHK</td>\n",
       "      <td>New Town, Kolkata</td>\n",
       "      <td>1567 sq.ft</td>\n",
       "      <td>₹5.11 K/sq.ft</td>\n",
       "      <td>New Doors Solutions</td>\n",
       "      <td>Housing Prime Agent</td>\n",
       "    </tr>\n",
       "  </tbody>\n",
       "</table>\n",
       "</div>"
      ],
      "text/plain": [
       "     Flat_Price EMI_Starts    BHK                   Location Total_Sq.ft  \\\n",
       "347     ₹50.5 L   ₹26.74 K  5 BHK           Sodepur, Kolkata  1088 sq.ft   \n",
       "1508     ₹4.1 L    ₹2.17 K  2 BHK  Sewli Telinipara, Kolkata  1150 sq.ft   \n",
       "383    ₹62.55 L   ₹33.12 K  3 BHK           Sodepur, Kolkata  2880 sq.ft   \n",
       "86      ₹80.0 L   ₹39.72 K  3 BHK          New Town, Kolkata  1567 sq.ft   \n",
       "\n",
       "     Price_per_sq.ft           Owner_name           Owner_type  \n",
       "347    ₹4.64 K/sq.ft    Reliable Realtors       Housing Expert  \n",
       "1508      ₹356/sq.ft    Falguni Mukherjee                Owner  \n",
       "383    ₹2.17 K/sq.ft    Reliable Realtors       Housing Expert  \n",
       "86     ₹5.11 K/sq.ft  New Doors Solutions  Housing Prime Agent  "
      ]
     },
     "execution_count": 14,
     "metadata": {},
     "output_type": "execute_result"
    }
   ],
   "source": [
    "df.sample(4)"
   ]
  },
  {
   "cell_type": "code",
   "execution_count": 15,
   "id": "9ec2cb26",
   "metadata": {
    "execution": {
     "iopub.execute_input": "2024-04-23T17:26:18.525320Z",
     "iopub.status.busy": "2024-04-23T17:26:18.524685Z",
     "iopub.status.idle": "2024-04-23T17:26:18.533533Z",
     "shell.execute_reply": "2024-04-23T17:26:18.532318Z"
    },
    "papermill": {
     "duration": 0.029323,
     "end_time": "2024-04-23T17:26:18.535971",
     "exception": false,
     "start_time": "2024-04-23T17:26:18.506648",
     "status": "completed"
    },
    "tags": []
   },
   "outputs": [
    {
     "data": {
      "text/plain": [
       "Flat_Price         object\n",
       "EMI_Starts         object\n",
       "BHK                object\n",
       "Location           object\n",
       "Total_Sq.ft        object\n",
       "Price_per_sq.ft    object\n",
       "Owner_name         object\n",
       "Owner_type         object\n",
       "dtype: object"
      ]
     },
     "execution_count": 15,
     "metadata": {},
     "output_type": "execute_result"
    }
   ],
   "source": [
    "df.dtypes"
   ]
  },
  {
   "cell_type": "markdown",
   "id": "00b3ee9f",
   "metadata": {
    "execution": {
     "iopub.execute_input": "2024-04-23T11:09:43.127699Z",
     "iopub.status.busy": "2024-04-23T11:09:43.126694Z",
     "iopub.status.idle": "2024-04-23T11:09:43.134930Z",
     "shell.execute_reply": "2024-04-23T11:09:43.133907Z",
     "shell.execute_reply.started": "2024-04-23T11:09:43.127659Z"
    },
    "papermill": {
     "duration": 0.017108,
     "end_time": "2024-04-23T17:26:18.569935",
     "exception": false,
     "start_time": "2024-04-23T17:26:18.552827",
     "status": "completed"
    },
    "tags": []
   },
   "source": [
    "Nedd to convert the Flat_price ,EMI_Starts and price_per_sq.ft into float datatype,before we need to do the text preprocessing."
   ]
  },
  {
   "cell_type": "code",
   "execution_count": 16,
   "id": "00e0076a",
   "metadata": {
    "execution": {
     "iopub.execute_input": "2024-04-23T17:26:18.605518Z",
     "iopub.status.busy": "2024-04-23T17:26:18.605141Z",
     "iopub.status.idle": "2024-04-23T17:26:18.618210Z",
     "shell.execute_reply": "2024-04-23T17:26:18.617017Z"
    },
    "papermill": {
     "duration": 0.033787,
     "end_time": "2024-04-23T17:26:18.620708",
     "exception": false,
     "start_time": "2024-04-23T17:26:18.586921",
     "status": "completed"
    },
    "tags": []
   },
   "outputs": [
    {
     "data": {
      "text/html": [
       "<div>\n",
       "<style scoped>\n",
       "    .dataframe tbody tr th:only-of-type {\n",
       "        vertical-align: middle;\n",
       "    }\n",
       "\n",
       "    .dataframe tbody tr th {\n",
       "        vertical-align: top;\n",
       "    }\n",
       "\n",
       "    .dataframe thead th {\n",
       "        text-align: right;\n",
       "    }\n",
       "</style>\n",
       "<table border=\"1\" class=\"dataframe\">\n",
       "  <thead>\n",
       "    <tr style=\"text-align: right;\">\n",
       "      <th></th>\n",
       "      <th>Flat_Price</th>\n",
       "      <th>EMI_Starts</th>\n",
       "      <th>Price_per_sq.ft</th>\n",
       "    </tr>\n",
       "  </thead>\n",
       "  <tbody>\n",
       "    <tr>\n",
       "      <th>0</th>\n",
       "      <td>₹8.5 Cr</td>\n",
       "      <td>₹4.22 Lacs</td>\n",
       "      <td>₹20.24 K/sq.ft</td>\n",
       "    </tr>\n",
       "    <tr>\n",
       "      <th>1</th>\n",
       "      <td>₹45.0 L</td>\n",
       "      <td>₹23.83 K</td>\n",
       "      <td>₹3.21 K/sq.ft</td>\n",
       "    </tr>\n",
       "    <tr>\n",
       "      <th>2</th>\n",
       "      <td>₹1.35 Cr</td>\n",
       "      <td>₹67.02 K</td>\n",
       "      <td>₹5.40 K/sq.ft</td>\n",
       "    </tr>\n",
       "    <tr>\n",
       "      <th>3</th>\n",
       "      <td>₹60.0 L</td>\n",
       "      <td>₹31.77 K</td>\n",
       "      <td>₹5.45 K/sq.ft</td>\n",
       "    </tr>\n",
       "    <tr>\n",
       "      <th>4</th>\n",
       "      <td>₹52.0 L</td>\n",
       "      <td>₹27.54 K</td>\n",
       "      <td>₹5.78 K/sq.ft</td>\n",
       "    </tr>\n",
       "  </tbody>\n",
       "</table>\n",
       "</div>"
      ],
      "text/plain": [
       "  Flat_Price  EMI_Starts Price_per_sq.ft\n",
       "0    ₹8.5 Cr  ₹4.22 Lacs  ₹20.24 K/sq.ft\n",
       "1    ₹45.0 L    ₹23.83 K   ₹3.21 K/sq.ft\n",
       "2   ₹1.35 Cr    ₹67.02 K   ₹5.40 K/sq.ft\n",
       "3    ₹60.0 L    ₹31.77 K   ₹5.45 K/sq.ft\n",
       "4    ₹52.0 L    ₹27.54 K   ₹5.78 K/sq.ft"
      ]
     },
     "execution_count": 16,
     "metadata": {},
     "output_type": "execute_result"
    }
   ],
   "source": [
    "df[[\"Flat_Price\",\"EMI_Starts\",\"Price_per_sq.ft\"]].head()"
   ]
  },
  {
   "cell_type": "code",
   "execution_count": 17,
   "id": "dd6ec386",
   "metadata": {
    "execution": {
     "iopub.execute_input": "2024-04-23T17:26:18.656779Z",
     "iopub.status.busy": "2024-04-23T17:26:18.656353Z",
     "iopub.status.idle": "2024-04-23T17:26:18.670882Z",
     "shell.execute_reply": "2024-04-23T17:26:18.669518Z"
    },
    "papermill": {
     "duration": 0.035311,
     "end_time": "2024-04-23T17:26:18.673199",
     "exception": false,
     "start_time": "2024-04-23T17:26:18.637888",
     "status": "completed"
    },
    "tags": []
   },
   "outputs": [],
   "source": [
    "df[\"Flat_Price\"]=df[\"Flat_Price\"].str.strip(\"₹\")\n",
    "df[\"EMI_Starts\"]=df[\"EMI_Starts\"].str.strip(\"₹\")\n",
    "df[\"Price_per_sq.ft\"]=df[\"Price_per_sq.ft\"].str.strip(\"₹\")"
   ]
  },
  {
   "cell_type": "code",
   "execution_count": 18,
   "id": "c2cac8dd",
   "metadata": {
    "execution": {
     "iopub.execute_input": "2024-04-23T17:26:18.710318Z",
     "iopub.status.busy": "2024-04-23T17:26:18.709897Z",
     "iopub.status.idle": "2024-04-23T17:26:18.726125Z",
     "shell.execute_reply": "2024-04-23T17:26:18.724678Z"
    },
    "papermill": {
     "duration": 0.038001,
     "end_time": "2024-04-23T17:26:18.728674",
     "exception": false,
     "start_time": "2024-04-23T17:26:18.690673",
     "status": "completed"
    },
    "tags": []
   },
   "outputs": [
    {
     "data": {
      "text/html": [
       "<div>\n",
       "<style scoped>\n",
       "    .dataframe tbody tr th:only-of-type {\n",
       "        vertical-align: middle;\n",
       "    }\n",
       "\n",
       "    .dataframe tbody tr th {\n",
       "        vertical-align: top;\n",
       "    }\n",
       "\n",
       "    .dataframe thead th {\n",
       "        text-align: right;\n",
       "    }\n",
       "</style>\n",
       "<table border=\"1\" class=\"dataframe\">\n",
       "  <thead>\n",
       "    <tr style=\"text-align: right;\">\n",
       "      <th></th>\n",
       "      <th>Flat_Price</th>\n",
       "      <th>EMI_Starts</th>\n",
       "      <th>BHK</th>\n",
       "      <th>Location</th>\n",
       "      <th>Total_Sq.ft</th>\n",
       "      <th>Price_per_sq.ft</th>\n",
       "      <th>Owner_name</th>\n",
       "      <th>Owner_type</th>\n",
       "    </tr>\n",
       "  </thead>\n",
       "  <tbody>\n",
       "    <tr>\n",
       "      <th>0</th>\n",
       "      <td>8.5 Cr</td>\n",
       "      <td>4.22 Lacs</td>\n",
       "      <td>6 BHK</td>\n",
       "      <td>Ballygunge, Kolkata</td>\n",
       "      <td>4200 sq.ft</td>\n",
       "      <td>20.24 K/sq.ft</td>\n",
       "      <td>Abhijit Chakraborty</td>\n",
       "      <td>Housing Expert</td>\n",
       "    </tr>\n",
       "    <tr>\n",
       "      <th>1</th>\n",
       "      <td>45.0 L</td>\n",
       "      <td>23.83 K</td>\n",
       "      <td>3 BHK</td>\n",
       "      <td>Barrackpore, Kolkata</td>\n",
       "      <td>1400 sq.ft</td>\n",
       "      <td>3.21 K/sq.ft</td>\n",
       "      <td>Virtual Reality</td>\n",
       "      <td>Housing Expert</td>\n",
       "    </tr>\n",
       "    <tr>\n",
       "      <th>2</th>\n",
       "      <td>1.35 Cr</td>\n",
       "      <td>67.02 K</td>\n",
       "      <td>3 BHK</td>\n",
       "      <td>Santoshpur, Kolkata</td>\n",
       "      <td>2500 sq.ft</td>\n",
       "      <td>5.40 K/sq.ft</td>\n",
       "      <td>AveNew Properties</td>\n",
       "      <td>Housing Expert</td>\n",
       "    </tr>\n",
       "    <tr>\n",
       "      <th>3</th>\n",
       "      <td>60.0 L</td>\n",
       "      <td>31.77 K</td>\n",
       "      <td>5 BHK</td>\n",
       "      <td>Sarsuna, Kolkata</td>\n",
       "      <td>1100 sq.ft</td>\n",
       "      <td>5.45 K/sq.ft</td>\n",
       "      <td>Ganapati Real Estate</td>\n",
       "      <td>Housing Expert</td>\n",
       "    </tr>\n",
       "    <tr>\n",
       "      <th>4</th>\n",
       "      <td>52.0 L</td>\n",
       "      <td>27.54 K</td>\n",
       "      <td>4 BHK</td>\n",
       "      <td>Madhyamgram, Kolkata</td>\n",
       "      <td>900 sq.ft</td>\n",
       "      <td>5.78 K/sq.ft</td>\n",
       "      <td>Third Eye Consulting</td>\n",
       "      <td>Housing Expert</td>\n",
       "    </tr>\n",
       "  </tbody>\n",
       "</table>\n",
       "</div>"
      ],
      "text/plain": [
       "  Flat_Price EMI_Starts    BHK              Location Total_Sq.ft  \\\n",
       "0     8.5 Cr  4.22 Lacs  6 BHK   Ballygunge, Kolkata  4200 sq.ft   \n",
       "1     45.0 L    23.83 K  3 BHK  Barrackpore, Kolkata  1400 sq.ft   \n",
       "2    1.35 Cr    67.02 K  3 BHK   Santoshpur, Kolkata  2500 sq.ft   \n",
       "3     60.0 L    31.77 K  5 BHK      Sarsuna, Kolkata  1100 sq.ft   \n",
       "4     52.0 L    27.54 K  4 BHK  Madhyamgram, Kolkata   900 sq.ft   \n",
       "\n",
       "  Price_per_sq.ft            Owner_name      Owner_type  \n",
       "0   20.24 K/sq.ft   Abhijit Chakraborty  Housing Expert  \n",
       "1    3.21 K/sq.ft       Virtual Reality  Housing Expert  \n",
       "2    5.40 K/sq.ft     AveNew Properties  Housing Expert  \n",
       "3    5.45 K/sq.ft  Ganapati Real Estate  Housing Expert  \n",
       "4    5.78 K/sq.ft  Third Eye Consulting  Housing Expert  "
      ]
     },
     "execution_count": 18,
     "metadata": {},
     "output_type": "execute_result"
    }
   ],
   "source": [
    "df.head()"
   ]
  },
  {
   "cell_type": "code",
   "execution_count": 19,
   "id": "aa878bfc",
   "metadata": {
    "execution": {
     "iopub.execute_input": "2024-04-23T17:26:18.765572Z",
     "iopub.status.busy": "2024-04-23T17:26:18.765124Z",
     "iopub.status.idle": "2024-04-23T17:26:18.773647Z",
     "shell.execute_reply": "2024-04-23T17:26:18.772457Z"
    },
    "papermill": {
     "duration": 0.029753,
     "end_time": "2024-04-23T17:26:18.776086",
     "exception": false,
     "start_time": "2024-04-23T17:26:18.746333",
     "status": "completed"
    },
    "tags": []
   },
   "outputs": [],
   "source": [
    "df[\"Price_per_sq.ft\"]=df[\"Price_per_sq.ft\"].str.strip(\"/sq.ft\")"
   ]
  },
  {
   "cell_type": "code",
   "execution_count": 20,
   "id": "b388c75e",
   "metadata": {
    "execution": {
     "iopub.execute_input": "2024-04-23T17:26:18.813980Z",
     "iopub.status.busy": "2024-04-23T17:26:18.813524Z",
     "iopub.status.idle": "2024-04-23T17:26:18.827313Z",
     "shell.execute_reply": "2024-04-23T17:26:18.826508Z"
    },
    "papermill": {
     "duration": 0.034651,
     "end_time": "2024-04-23T17:26:18.829347",
     "exception": false,
     "start_time": "2024-04-23T17:26:18.794696",
     "status": "completed"
    },
    "tags": []
   },
   "outputs": [
    {
     "data": {
      "text/html": [
       "<div>\n",
       "<style scoped>\n",
       "    .dataframe tbody tr th:only-of-type {\n",
       "        vertical-align: middle;\n",
       "    }\n",
       "\n",
       "    .dataframe tbody tr th {\n",
       "        vertical-align: top;\n",
       "    }\n",
       "\n",
       "    .dataframe thead th {\n",
       "        text-align: right;\n",
       "    }\n",
       "</style>\n",
       "<table border=\"1\" class=\"dataframe\">\n",
       "  <thead>\n",
       "    <tr style=\"text-align: right;\">\n",
       "      <th></th>\n",
       "      <th>Flat_Price</th>\n",
       "      <th>EMI_Starts</th>\n",
       "      <th>BHK</th>\n",
       "      <th>Location</th>\n",
       "      <th>Total_Sq.ft</th>\n",
       "      <th>Price_per_sq.ft</th>\n",
       "      <th>Owner_name</th>\n",
       "      <th>Owner_type</th>\n",
       "    </tr>\n",
       "  </thead>\n",
       "  <tbody>\n",
       "    <tr>\n",
       "      <th>0</th>\n",
       "      <td>8.5 Cr</td>\n",
       "      <td>4.22 Lacs</td>\n",
       "      <td>6 BHK</td>\n",
       "      <td>Ballygunge, Kolkata</td>\n",
       "      <td>4200 sq.ft</td>\n",
       "      <td>20.24 K</td>\n",
       "      <td>Abhijit Chakraborty</td>\n",
       "      <td>Housing Expert</td>\n",
       "    </tr>\n",
       "    <tr>\n",
       "      <th>1</th>\n",
       "      <td>45.0 L</td>\n",
       "      <td>23.83 K</td>\n",
       "      <td>3 BHK</td>\n",
       "      <td>Barrackpore, Kolkata</td>\n",
       "      <td>1400 sq.ft</td>\n",
       "      <td>3.21 K</td>\n",
       "      <td>Virtual Reality</td>\n",
       "      <td>Housing Expert</td>\n",
       "    </tr>\n",
       "    <tr>\n",
       "      <th>2</th>\n",
       "      <td>1.35 Cr</td>\n",
       "      <td>67.02 K</td>\n",
       "      <td>3 BHK</td>\n",
       "      <td>Santoshpur, Kolkata</td>\n",
       "      <td>2500 sq.ft</td>\n",
       "      <td>5.40 K</td>\n",
       "      <td>AveNew Properties</td>\n",
       "      <td>Housing Expert</td>\n",
       "    </tr>\n",
       "    <tr>\n",
       "      <th>3</th>\n",
       "      <td>60.0 L</td>\n",
       "      <td>31.77 K</td>\n",
       "      <td>5 BHK</td>\n",
       "      <td>Sarsuna, Kolkata</td>\n",
       "      <td>1100 sq.ft</td>\n",
       "      <td>5.45 K</td>\n",
       "      <td>Ganapati Real Estate</td>\n",
       "      <td>Housing Expert</td>\n",
       "    </tr>\n",
       "    <tr>\n",
       "      <th>4</th>\n",
       "      <td>52.0 L</td>\n",
       "      <td>27.54 K</td>\n",
       "      <td>4 BHK</td>\n",
       "      <td>Madhyamgram, Kolkata</td>\n",
       "      <td>900 sq.ft</td>\n",
       "      <td>5.78 K</td>\n",
       "      <td>Third Eye Consulting</td>\n",
       "      <td>Housing Expert</td>\n",
       "    </tr>\n",
       "  </tbody>\n",
       "</table>\n",
       "</div>"
      ],
      "text/plain": [
       "  Flat_Price EMI_Starts    BHK              Location Total_Sq.ft  \\\n",
       "0     8.5 Cr  4.22 Lacs  6 BHK   Ballygunge, Kolkata  4200 sq.ft   \n",
       "1     45.0 L    23.83 K  3 BHK  Barrackpore, Kolkata  1400 sq.ft   \n",
       "2    1.35 Cr    67.02 K  3 BHK   Santoshpur, Kolkata  2500 sq.ft   \n",
       "3     60.0 L    31.77 K  5 BHK      Sarsuna, Kolkata  1100 sq.ft   \n",
       "4     52.0 L    27.54 K  4 BHK  Madhyamgram, Kolkata   900 sq.ft   \n",
       "\n",
       "  Price_per_sq.ft            Owner_name      Owner_type  \n",
       "0         20.24 K   Abhijit Chakraborty  Housing Expert  \n",
       "1          3.21 K       Virtual Reality  Housing Expert  \n",
       "2          5.40 K     AveNew Properties  Housing Expert  \n",
       "3          5.45 K  Ganapati Real Estate  Housing Expert  \n",
       "4          5.78 K  Third Eye Consulting  Housing Expert  "
      ]
     },
     "execution_count": 20,
     "metadata": {},
     "output_type": "execute_result"
    }
   ],
   "source": [
    "df.head()"
   ]
  },
  {
   "cell_type": "code",
   "execution_count": 21,
   "id": "6e761426",
   "metadata": {
    "execution": {
     "iopub.execute_input": "2024-04-23T17:26:18.928377Z",
     "iopub.status.busy": "2024-04-23T17:26:18.927585Z",
     "iopub.status.idle": "2024-04-23T17:26:18.935701Z",
     "shell.execute_reply": "2024-04-23T17:26:18.934622Z"
    },
    "papermill": {
     "duration": 0.091176,
     "end_time": "2024-04-23T17:26:18.938261",
     "exception": false,
     "start_time": "2024-04-23T17:26:18.847085",
     "status": "completed"
    },
    "tags": []
   },
   "outputs": [],
   "source": [
    "#removing the state(Kolkata) because having same state for all rows\n",
    "df[\"Location\"]=df[\"Location\"].str.strip(\", Kolkata\")"
   ]
  },
  {
   "cell_type": "code",
   "execution_count": 22,
   "id": "95ecbe3d",
   "metadata": {
    "execution": {
     "iopub.execute_input": "2024-04-23T17:26:18.976269Z",
     "iopub.status.busy": "2024-04-23T17:26:18.975869Z",
     "iopub.status.idle": "2024-04-23T17:26:18.990415Z",
     "shell.execute_reply": "2024-04-23T17:26:18.989289Z"
    },
    "papermill": {
     "duration": 0.03648,
     "end_time": "2024-04-23T17:26:18.992907",
     "exception": false,
     "start_time": "2024-04-23T17:26:18.956427",
     "status": "completed"
    },
    "tags": []
   },
   "outputs": [
    {
     "data": {
      "text/html": [
       "<div>\n",
       "<style scoped>\n",
       "    .dataframe tbody tr th:only-of-type {\n",
       "        vertical-align: middle;\n",
       "    }\n",
       "\n",
       "    .dataframe tbody tr th {\n",
       "        vertical-align: top;\n",
       "    }\n",
       "\n",
       "    .dataframe thead th {\n",
       "        text-align: right;\n",
       "    }\n",
       "</style>\n",
       "<table border=\"1\" class=\"dataframe\">\n",
       "  <thead>\n",
       "    <tr style=\"text-align: right;\">\n",
       "      <th></th>\n",
       "      <th>Flat_Price</th>\n",
       "      <th>EMI_Starts</th>\n",
       "      <th>BHK</th>\n",
       "      <th>Location</th>\n",
       "      <th>Total_Sq.ft</th>\n",
       "      <th>Price_per_sq.ft</th>\n",
       "      <th>Owner_name</th>\n",
       "      <th>Owner_type</th>\n",
       "    </tr>\n",
       "  </thead>\n",
       "  <tbody>\n",
       "    <tr>\n",
       "      <th>0</th>\n",
       "      <td>8.5 Cr</td>\n",
       "      <td>4.22 Lacs</td>\n",
       "      <td>6 BHK</td>\n",
       "      <td>Ballygunge</td>\n",
       "      <td>4200 sq.ft</td>\n",
       "      <td>20.24 K</td>\n",
       "      <td>Abhijit Chakraborty</td>\n",
       "      <td>Housing Expert</td>\n",
       "    </tr>\n",
       "    <tr>\n",
       "      <th>1</th>\n",
       "      <td>45.0 L</td>\n",
       "      <td>23.83 K</td>\n",
       "      <td>3 BHK</td>\n",
       "      <td>Barrackpore</td>\n",
       "      <td>1400 sq.ft</td>\n",
       "      <td>3.21 K</td>\n",
       "      <td>Virtual Reality</td>\n",
       "      <td>Housing Expert</td>\n",
       "    </tr>\n",
       "    <tr>\n",
       "      <th>2</th>\n",
       "      <td>1.35 Cr</td>\n",
       "      <td>67.02 K</td>\n",
       "      <td>3 BHK</td>\n",
       "      <td>Santoshpur</td>\n",
       "      <td>2500 sq.ft</td>\n",
       "      <td>5.40 K</td>\n",
       "      <td>AveNew Properties</td>\n",
       "      <td>Housing Expert</td>\n",
       "    </tr>\n",
       "    <tr>\n",
       "      <th>3</th>\n",
       "      <td>60.0 L</td>\n",
       "      <td>31.77 K</td>\n",
       "      <td>5 BHK</td>\n",
       "      <td>Sarsun</td>\n",
       "      <td>1100 sq.ft</td>\n",
       "      <td>5.45 K</td>\n",
       "      <td>Ganapati Real Estate</td>\n",
       "      <td>Housing Expert</td>\n",
       "    </tr>\n",
       "    <tr>\n",
       "      <th>4</th>\n",
       "      <td>52.0 L</td>\n",
       "      <td>27.54 K</td>\n",
       "      <td>4 BHK</td>\n",
       "      <td>Madhyamgram</td>\n",
       "      <td>900 sq.ft</td>\n",
       "      <td>5.78 K</td>\n",
       "      <td>Third Eye Consulting</td>\n",
       "      <td>Housing Expert</td>\n",
       "    </tr>\n",
       "  </tbody>\n",
       "</table>\n",
       "</div>"
      ],
      "text/plain": [
       "  Flat_Price EMI_Starts    BHK     Location Total_Sq.ft Price_per_sq.ft  \\\n",
       "0     8.5 Cr  4.22 Lacs  6 BHK   Ballygunge  4200 sq.ft         20.24 K   \n",
       "1     45.0 L    23.83 K  3 BHK  Barrackpore  1400 sq.ft          3.21 K   \n",
       "2    1.35 Cr    67.02 K  3 BHK   Santoshpur  2500 sq.ft          5.40 K   \n",
       "3     60.0 L    31.77 K  5 BHK       Sarsun  1100 sq.ft          5.45 K   \n",
       "4     52.0 L    27.54 K  4 BHK  Madhyamgram   900 sq.ft          5.78 K   \n",
       "\n",
       "             Owner_name      Owner_type  \n",
       "0   Abhijit Chakraborty  Housing Expert  \n",
       "1       Virtual Reality  Housing Expert  \n",
       "2     AveNew Properties  Housing Expert  \n",
       "3  Ganapati Real Estate  Housing Expert  \n",
       "4  Third Eye Consulting  Housing Expert  "
      ]
     },
     "execution_count": 22,
     "metadata": {},
     "output_type": "execute_result"
    }
   ],
   "source": [
    "df.head()"
   ]
  },
  {
   "cell_type": "code",
   "execution_count": 23,
   "id": "20645e1d",
   "metadata": {
    "execution": {
     "iopub.execute_input": "2024-04-23T17:26:19.030601Z",
     "iopub.status.busy": "2024-04-23T17:26:19.030193Z",
     "iopub.status.idle": "2024-04-23T17:26:19.973536Z",
     "shell.execute_reply": "2024-04-23T17:26:19.972339Z"
    },
    "papermill": {
     "duration": 0.965365,
     "end_time": "2024-04-23T17:26:19.976222",
     "exception": false,
     "start_time": "2024-04-23T17:26:19.010857",
     "status": "completed"
    },
    "tags": []
   },
   "outputs": [],
   "source": [
    "for i in range(df[\"BHK\"].shape[0]):\n",
    "    df[\"Rooms\"]=df['BHK'][i].split(' ')[0]\n",
    "    df[\"Room_Type\"]=df['BHK'][i].split(' ')[1]"
   ]
  },
  {
   "cell_type": "code",
   "execution_count": 24,
   "id": "7f95f89e",
   "metadata": {
    "execution": {
     "iopub.execute_input": "2024-04-23T17:26:20.014735Z",
     "iopub.status.busy": "2024-04-23T17:26:20.014050Z",
     "iopub.status.idle": "2024-04-23T17:26:20.029989Z",
     "shell.execute_reply": "2024-04-23T17:26:20.028714Z"
    },
    "papermill": {
     "duration": 0.03813,
     "end_time": "2024-04-23T17:26:20.032598",
     "exception": false,
     "start_time": "2024-04-23T17:26:19.994468",
     "status": "completed"
    },
    "tags": []
   },
   "outputs": [
    {
     "data": {
      "text/html": [
       "<div>\n",
       "<style scoped>\n",
       "    .dataframe tbody tr th:only-of-type {\n",
       "        vertical-align: middle;\n",
       "    }\n",
       "\n",
       "    .dataframe tbody tr th {\n",
       "        vertical-align: top;\n",
       "    }\n",
       "\n",
       "    .dataframe thead th {\n",
       "        text-align: right;\n",
       "    }\n",
       "</style>\n",
       "<table border=\"1\" class=\"dataframe\">\n",
       "  <thead>\n",
       "    <tr style=\"text-align: right;\">\n",
       "      <th></th>\n",
       "      <th>Flat_Price</th>\n",
       "      <th>EMI_Starts</th>\n",
       "      <th>BHK</th>\n",
       "      <th>Location</th>\n",
       "      <th>Total_Sq.ft</th>\n",
       "      <th>Price_per_sq.ft</th>\n",
       "      <th>Owner_name</th>\n",
       "      <th>Owner_type</th>\n",
       "      <th>Rooms</th>\n",
       "      <th>Room_Type</th>\n",
       "    </tr>\n",
       "  </thead>\n",
       "  <tbody>\n",
       "    <tr>\n",
       "      <th>0</th>\n",
       "      <td>8.5 Cr</td>\n",
       "      <td>4.22 Lacs</td>\n",
       "      <td>6 BHK</td>\n",
       "      <td>Ballygunge</td>\n",
       "      <td>4200 sq.ft</td>\n",
       "      <td>20.24 K</td>\n",
       "      <td>Abhijit Chakraborty</td>\n",
       "      <td>Housing Expert</td>\n",
       "      <td>2</td>\n",
       "      <td>BHK</td>\n",
       "    </tr>\n",
       "    <tr>\n",
       "      <th>1</th>\n",
       "      <td>45.0 L</td>\n",
       "      <td>23.83 K</td>\n",
       "      <td>3 BHK</td>\n",
       "      <td>Barrackpore</td>\n",
       "      <td>1400 sq.ft</td>\n",
       "      <td>3.21 K</td>\n",
       "      <td>Virtual Reality</td>\n",
       "      <td>Housing Expert</td>\n",
       "      <td>2</td>\n",
       "      <td>BHK</td>\n",
       "    </tr>\n",
       "    <tr>\n",
       "      <th>2</th>\n",
       "      <td>1.35 Cr</td>\n",
       "      <td>67.02 K</td>\n",
       "      <td>3 BHK</td>\n",
       "      <td>Santoshpur</td>\n",
       "      <td>2500 sq.ft</td>\n",
       "      <td>5.40 K</td>\n",
       "      <td>AveNew Properties</td>\n",
       "      <td>Housing Expert</td>\n",
       "      <td>2</td>\n",
       "      <td>BHK</td>\n",
       "    </tr>\n",
       "    <tr>\n",
       "      <th>3</th>\n",
       "      <td>60.0 L</td>\n",
       "      <td>31.77 K</td>\n",
       "      <td>5 BHK</td>\n",
       "      <td>Sarsun</td>\n",
       "      <td>1100 sq.ft</td>\n",
       "      <td>5.45 K</td>\n",
       "      <td>Ganapati Real Estate</td>\n",
       "      <td>Housing Expert</td>\n",
       "      <td>2</td>\n",
       "      <td>BHK</td>\n",
       "    </tr>\n",
       "    <tr>\n",
       "      <th>4</th>\n",
       "      <td>52.0 L</td>\n",
       "      <td>27.54 K</td>\n",
       "      <td>4 BHK</td>\n",
       "      <td>Madhyamgram</td>\n",
       "      <td>900 sq.ft</td>\n",
       "      <td>5.78 K</td>\n",
       "      <td>Third Eye Consulting</td>\n",
       "      <td>Housing Expert</td>\n",
       "      <td>2</td>\n",
       "      <td>BHK</td>\n",
       "    </tr>\n",
       "  </tbody>\n",
       "</table>\n",
       "</div>"
      ],
      "text/plain": [
       "  Flat_Price EMI_Starts    BHK     Location Total_Sq.ft Price_per_sq.ft  \\\n",
       "0     8.5 Cr  4.22 Lacs  6 BHK   Ballygunge  4200 sq.ft         20.24 K   \n",
       "1     45.0 L    23.83 K  3 BHK  Barrackpore  1400 sq.ft          3.21 K   \n",
       "2    1.35 Cr    67.02 K  3 BHK   Santoshpur  2500 sq.ft          5.40 K   \n",
       "3     60.0 L    31.77 K  5 BHK       Sarsun  1100 sq.ft          5.45 K   \n",
       "4     52.0 L    27.54 K  4 BHK  Madhyamgram   900 sq.ft          5.78 K   \n",
       "\n",
       "             Owner_name      Owner_type Rooms Room_Type  \n",
       "0   Abhijit Chakraborty  Housing Expert     2       BHK  \n",
       "1       Virtual Reality  Housing Expert     2       BHK  \n",
       "2     AveNew Properties  Housing Expert     2       BHK  \n",
       "3  Ganapati Real Estate  Housing Expert     2       BHK  \n",
       "4  Third Eye Consulting  Housing Expert     2       BHK  "
      ]
     },
     "execution_count": 24,
     "metadata": {},
     "output_type": "execute_result"
    }
   ],
   "source": [
    "df.head()"
   ]
  },
  {
   "cell_type": "code",
   "execution_count": 25,
   "id": "96244b5e",
   "metadata": {
    "execution": {
     "iopub.execute_input": "2024-04-23T17:26:20.072689Z",
     "iopub.status.busy": "2024-04-23T17:26:20.072311Z",
     "iopub.status.idle": "2024-04-23T17:26:20.078192Z",
     "shell.execute_reply": "2024-04-23T17:26:20.077316Z"
    },
    "papermill": {
     "duration": 0.029163,
     "end_time": "2024-04-23T17:26:20.080413",
     "exception": false,
     "start_time": "2024-04-23T17:26:20.051250",
     "status": "completed"
    },
    "tags": []
   },
   "outputs": [],
   "source": [
    "df.drop(\"BHK\",axis=1,inplace=True)"
   ]
  },
  {
   "cell_type": "code",
   "execution_count": 26,
   "id": "6b406e19",
   "metadata": {
    "execution": {
     "iopub.execute_input": "2024-04-23T17:26:20.118976Z",
     "iopub.status.busy": "2024-04-23T17:26:20.118589Z",
     "iopub.status.idle": "2024-04-23T17:26:20.135148Z",
     "shell.execute_reply": "2024-04-23T17:26:20.133919Z"
    },
    "papermill": {
     "duration": 0.038769,
     "end_time": "2024-04-23T17:26:20.137717",
     "exception": false,
     "start_time": "2024-04-23T17:26:20.098948",
     "status": "completed"
    },
    "tags": []
   },
   "outputs": [
    {
     "data": {
      "text/html": [
       "<div>\n",
       "<style scoped>\n",
       "    .dataframe tbody tr th:only-of-type {\n",
       "        vertical-align: middle;\n",
       "    }\n",
       "\n",
       "    .dataframe tbody tr th {\n",
       "        vertical-align: top;\n",
       "    }\n",
       "\n",
       "    .dataframe thead th {\n",
       "        text-align: right;\n",
       "    }\n",
       "</style>\n",
       "<table border=\"1\" class=\"dataframe\">\n",
       "  <thead>\n",
       "    <tr style=\"text-align: right;\">\n",
       "      <th></th>\n",
       "      <th>Flat_Price</th>\n",
       "      <th>EMI_Starts</th>\n",
       "      <th>Location</th>\n",
       "      <th>Total_Sq.ft</th>\n",
       "      <th>Price_per_sq.ft</th>\n",
       "      <th>Owner_name</th>\n",
       "      <th>Owner_type</th>\n",
       "      <th>Rooms</th>\n",
       "      <th>Room_Type</th>\n",
       "    </tr>\n",
       "  </thead>\n",
       "  <tbody>\n",
       "    <tr>\n",
       "      <th>1824</th>\n",
       "      <td>2.2 Cr</td>\n",
       "      <td>1.09 Lacs</td>\n",
       "      <td>Mukundapur</td>\n",
       "      <td>2500 sq.ft</td>\n",
       "      <td>8.80 K</td>\n",
       "      <td>Siddhartha Gupta</td>\n",
       "      <td>Owner</td>\n",
       "      <td>2</td>\n",
       "      <td>BHK</td>\n",
       "    </tr>\n",
       "    <tr>\n",
       "      <th>1403</th>\n",
       "      <td>65.0 L</td>\n",
       "      <td>34.42 K</td>\n",
       "      <td>yan Nagar</td>\n",
       "      <td>1250 sq.ft</td>\n",
       "      <td>5.20 K</td>\n",
       "      <td>Rockey</td>\n",
       "      <td>Owner</td>\n",
       "      <td>2</td>\n",
       "      <td>BHK</td>\n",
       "    </tr>\n",
       "  </tbody>\n",
       "</table>\n",
       "</div>"
      ],
      "text/plain": [
       "     Flat_Price EMI_Starts    Location Total_Sq.ft Price_per_sq.ft  \\\n",
       "1824     2.2 Cr  1.09 Lacs  Mukundapur  2500 sq.ft          8.80 K   \n",
       "1403     65.0 L    34.42 K   yan Nagar  1250 sq.ft          5.20 K   \n",
       "\n",
       "            Owner_name Owner_type Rooms Room_Type  \n",
       "1824  Siddhartha Gupta      Owner     2       BHK  \n",
       "1403            Rockey      Owner     2       BHK  "
      ]
     },
     "execution_count": 26,
     "metadata": {},
     "output_type": "execute_result"
    }
   ],
   "source": [
    "df.sample(2)"
   ]
  },
  {
   "cell_type": "code",
   "execution_count": 27,
   "id": "9650adb3",
   "metadata": {
    "execution": {
     "iopub.execute_input": "2024-04-23T17:26:20.178286Z",
     "iopub.status.busy": "2024-04-23T17:26:20.177848Z",
     "iopub.status.idle": "2024-04-23T17:26:20.186041Z",
     "shell.execute_reply": "2024-04-23T17:26:20.184840Z"
    },
    "papermill": {
     "duration": 0.030602,
     "end_time": "2024-04-23T17:26:20.188133",
     "exception": false,
     "start_time": "2024-04-23T17:26:20.157531",
     "status": "completed"
    },
    "tags": []
   },
   "outputs": [],
   "source": [
    "df[\"Total_Sq.ft\"]=df[\"Total_Sq.ft\"].str.strip(\"sq.ft\")"
   ]
  },
  {
   "cell_type": "code",
   "execution_count": 28,
   "id": "2d9d72a1",
   "metadata": {
    "execution": {
     "iopub.execute_input": "2024-04-23T17:26:20.227692Z",
     "iopub.status.busy": "2024-04-23T17:26:20.226628Z",
     "iopub.status.idle": "2024-04-23T17:26:20.240969Z",
     "shell.execute_reply": "2024-04-23T17:26:20.239839Z"
    },
    "papermill": {
     "duration": 0.036482,
     "end_time": "2024-04-23T17:26:20.243290",
     "exception": false,
     "start_time": "2024-04-23T17:26:20.206808",
     "status": "completed"
    },
    "tags": []
   },
   "outputs": [
    {
     "data": {
      "text/html": [
       "<div>\n",
       "<style scoped>\n",
       "    .dataframe tbody tr th:only-of-type {\n",
       "        vertical-align: middle;\n",
       "    }\n",
       "\n",
       "    .dataframe tbody tr th {\n",
       "        vertical-align: top;\n",
       "    }\n",
       "\n",
       "    .dataframe thead th {\n",
       "        text-align: right;\n",
       "    }\n",
       "</style>\n",
       "<table border=\"1\" class=\"dataframe\">\n",
       "  <thead>\n",
       "    <tr style=\"text-align: right;\">\n",
       "      <th></th>\n",
       "      <th>Flat_Price</th>\n",
       "      <th>EMI_Starts</th>\n",
       "      <th>Location</th>\n",
       "      <th>Total_Sq.ft</th>\n",
       "      <th>Price_per_sq.ft</th>\n",
       "      <th>Owner_name</th>\n",
       "      <th>Owner_type</th>\n",
       "      <th>Rooms</th>\n",
       "      <th>Room_Type</th>\n",
       "    </tr>\n",
       "  </thead>\n",
       "  <tbody>\n",
       "    <tr>\n",
       "      <th>2058</th>\n",
       "      <td>60.0 L</td>\n",
       "      <td>31.77 K</td>\n",
       "      <td>Sinthi</td>\n",
       "      <td>10000</td>\n",
       "      <td>600</td>\n",
       "      <td>Srikumarmitra</td>\n",
       "      <td>Owner</td>\n",
       "      <td>2</td>\n",
       "      <td>BHK</td>\n",
       "    </tr>\n",
       "    <tr>\n",
       "      <th>722</th>\n",
       "      <td>3.7 Cr</td>\n",
       "      <td>1.84 Lacs</td>\n",
       "      <td>Salt Lake City</td>\n",
       "      <td>5500</td>\n",
       "      <td>6.73 K</td>\n",
       "      <td>Sindhu Real Estate</td>\n",
       "      <td>Housing Prime Agent</td>\n",
       "      <td>2</td>\n",
       "      <td>BHK</td>\n",
       "    </tr>\n",
       "  </tbody>\n",
       "</table>\n",
       "</div>"
      ],
      "text/plain": [
       "     Flat_Price EMI_Starts        Location Total_Sq.ft Price_per_sq.ft  \\\n",
       "2058     60.0 L    31.77 K          Sinthi      10000              600   \n",
       "722      3.7 Cr  1.84 Lacs  Salt Lake City       5500           6.73 K   \n",
       "\n",
       "              Owner_name           Owner_type Rooms Room_Type  \n",
       "2058       Srikumarmitra                Owner     2       BHK  \n",
       "722   Sindhu Real Estate  Housing Prime Agent     2       BHK  "
      ]
     },
     "execution_count": 28,
     "metadata": {},
     "output_type": "execute_result"
    }
   ],
   "source": [
    "df.sample(2)"
   ]
  },
  {
   "cell_type": "code",
   "execution_count": 29,
   "id": "4b052713",
   "metadata": {
    "execution": {
     "iopub.execute_input": "2024-04-23T17:26:20.284369Z",
     "iopub.status.busy": "2024-04-23T17:26:20.283111Z",
     "iopub.status.idle": "2024-04-23T17:26:20.297107Z",
     "shell.execute_reply": "2024-04-23T17:26:20.295805Z"
    },
    "papermill": {
     "duration": 0.037536,
     "end_time": "2024-04-23T17:26:20.299907",
     "exception": false,
     "start_time": "2024-04-23T17:26:20.262371",
     "status": "completed"
    },
    "tags": []
   },
   "outputs": [
    {
     "data": {
      "text/plain": [
       "Flat_Price          0\n",
       "EMI_Starts          0\n",
       "Location            2\n",
       "Total_Sq.ft         0\n",
       "Price_per_sq.ft     0\n",
       "Owner_name         10\n",
       "Owner_type          0\n",
       "Rooms               0\n",
       "Room_Type           0\n",
       "dtype: int64"
      ]
     },
     "execution_count": 29,
     "metadata": {},
     "output_type": "execute_result"
    }
   ],
   "source": [
    "df.isna().sum()"
   ]
  },
  {
   "cell_type": "code",
   "execution_count": 30,
   "id": "b166ebb1",
   "metadata": {
    "execution": {
     "iopub.execute_input": "2024-04-23T17:26:20.339918Z",
     "iopub.status.busy": "2024-04-23T17:26:20.339354Z",
     "iopub.status.idle": "2024-04-23T17:26:20.351525Z",
     "shell.execute_reply": "2024-04-23T17:26:20.350711Z"
    },
    "papermill": {
     "duration": 0.034767,
     "end_time": "2024-04-23T17:26:20.353698",
     "exception": false,
     "start_time": "2024-04-23T17:26:20.318931",
     "status": "completed"
    },
    "tags": []
   },
   "outputs": [],
   "source": [
    "df.dropna(inplace=True)"
   ]
  },
  {
   "cell_type": "code",
   "execution_count": 31,
   "id": "36d8a6f3",
   "metadata": {
    "execution": {
     "iopub.execute_input": "2024-04-23T17:26:20.394230Z",
     "iopub.status.busy": "2024-04-23T17:26:20.393152Z",
     "iopub.status.idle": "2024-04-23T17:26:20.406596Z",
     "shell.execute_reply": "2024-04-23T17:26:20.405530Z"
    },
    "papermill": {
     "duration": 0.036312,
     "end_time": "2024-04-23T17:26:20.408927",
     "exception": false,
     "start_time": "2024-04-23T17:26:20.372615",
     "status": "completed"
    },
    "tags": []
   },
   "outputs": [
    {
     "data": {
      "text/plain": [
       "Flat_Price         0\n",
       "EMI_Starts         0\n",
       "Location           0\n",
       "Total_Sq.ft        0\n",
       "Price_per_sq.ft    0\n",
       "Owner_name         0\n",
       "Owner_type         0\n",
       "Rooms              0\n",
       "Room_Type          0\n",
       "dtype: int64"
      ]
     },
     "execution_count": 31,
     "metadata": {},
     "output_type": "execute_result"
    }
   ],
   "source": [
    "df.isna().sum()"
   ]
  },
  {
   "cell_type": "code",
   "execution_count": 32,
   "id": "e8891347",
   "metadata": {
    "execution": {
     "iopub.execute_input": "2024-04-23T17:26:20.449647Z",
     "iopub.status.busy": "2024-04-23T17:26:20.449249Z",
     "iopub.status.idle": "2024-04-23T17:26:20.454511Z",
     "shell.execute_reply": "2024-04-23T17:26:20.453323Z"
    },
    "papermill": {
     "duration": 0.028267,
     "end_time": "2024-04-23T17:26:20.456595",
     "exception": false,
     "start_time": "2024-04-23T17:26:20.428328",
     "status": "completed"
    },
    "tags": []
   },
   "outputs": [],
   "source": [
    "df.reset_index(drop=True,inplace=True)"
   ]
  },
  {
   "cell_type": "code",
   "execution_count": 33,
   "id": "2b9d001f",
   "metadata": {
    "execution": {
     "iopub.execute_input": "2024-04-23T17:26:20.497689Z",
     "iopub.status.busy": "2024-04-23T17:26:20.496411Z",
     "iopub.status.idle": "2024-04-23T17:26:20.504906Z",
     "shell.execute_reply": "2024-04-23T17:26:20.504077Z"
    },
    "papermill": {
     "duration": 0.031019,
     "end_time": "2024-04-23T17:26:20.506947",
     "exception": false,
     "start_time": "2024-04-23T17:26:20.475928",
     "status": "completed"
    },
    "tags": []
   },
   "outputs": [
    {
     "data": {
      "text/plain": [
       "0        8.5 Cr\n",
       "1        45.0 L\n",
       "2       1.35 Cr\n",
       "3        60.0 L\n",
       "4        52.0 L\n",
       "         ...   \n",
       "3951     13.0 L\n",
       "3952     1.5 Cr\n",
       "3953     50.0 L\n",
       "3954     1.1 Cr\n",
       "3955     30.0 L\n",
       "Name: Flat_Price, Length: 3956, dtype: object"
      ]
     },
     "execution_count": 33,
     "metadata": {},
     "output_type": "execute_result"
    }
   ],
   "source": [
    "df[\"Flat_Price\"][:]"
   ]
  },
  {
   "cell_type": "code",
   "execution_count": 34,
   "id": "a902af32",
   "metadata": {
    "execution": {
     "iopub.execute_input": "2024-04-23T17:26:20.547947Z",
     "iopub.status.busy": "2024-04-23T17:26:20.547149Z",
     "iopub.status.idle": "2024-04-23T17:26:22.023407Z",
     "shell.execute_reply": "2024-04-23T17:26:22.022238Z"
    },
    "papermill": {
     "duration": 1.499923,
     "end_time": "2024-04-23T17:26:22.026173",
     "exception": false,
     "start_time": "2024-04-23T17:26:20.526250",
     "status": "completed"
    },
    "tags": []
   },
   "outputs": [],
   "source": [
    "for i in range(df[\"Flat_Price\"].shape[0]):\n",
    "    if df[\"Flat_Price\"][i].split(\" \")[1]==\"Cr\":\n",
    "        df[\"Flat_Price\"][i]=float(df[\"Flat_Price\"][i][:-2])*10000000\n",
    "    else:\n",
    "        df[\"Flat_Price\"][i]=float(df[\"Flat_Price\"][i][:-2])*100000\n",
    "        \n",
    "#the below showing is just an error ,you can proceed with further steps"
   ]
  },
  {
   "cell_type": "code",
   "execution_count": 35,
   "id": "82e5a6fe",
   "metadata": {
    "execution": {
     "iopub.execute_input": "2024-04-23T17:26:22.071236Z",
     "iopub.status.busy": "2024-04-23T17:26:22.070825Z",
     "iopub.status.idle": "2024-04-23T17:26:22.086408Z",
     "shell.execute_reply": "2024-04-23T17:26:22.085288Z"
    },
    "papermill": {
     "duration": 0.041673,
     "end_time": "2024-04-23T17:26:22.088948",
     "exception": false,
     "start_time": "2024-04-23T17:26:22.047275",
     "status": "completed"
    },
    "tags": []
   },
   "outputs": [
    {
     "data": {
      "text/html": [
       "<div>\n",
       "<style scoped>\n",
       "    .dataframe tbody tr th:only-of-type {\n",
       "        vertical-align: middle;\n",
       "    }\n",
       "\n",
       "    .dataframe tbody tr th {\n",
       "        vertical-align: top;\n",
       "    }\n",
       "\n",
       "    .dataframe thead th {\n",
       "        text-align: right;\n",
       "    }\n",
       "</style>\n",
       "<table border=\"1\" class=\"dataframe\">\n",
       "  <thead>\n",
       "    <tr style=\"text-align: right;\">\n",
       "      <th></th>\n",
       "      <th>Flat_Price</th>\n",
       "      <th>EMI_Starts</th>\n",
       "      <th>Location</th>\n",
       "      <th>Total_Sq.ft</th>\n",
       "      <th>Price_per_sq.ft</th>\n",
       "      <th>Owner_name</th>\n",
       "      <th>Owner_type</th>\n",
       "      <th>Rooms</th>\n",
       "      <th>Room_Type</th>\n",
       "    </tr>\n",
       "  </thead>\n",
       "  <tbody>\n",
       "    <tr>\n",
       "      <th>0</th>\n",
       "      <td>85000000.0</td>\n",
       "      <td>4.22 Lacs</td>\n",
       "      <td>Ballygunge</td>\n",
       "      <td>4200</td>\n",
       "      <td>20.24 K</td>\n",
       "      <td>Abhijit Chakraborty</td>\n",
       "      <td>Housing Expert</td>\n",
       "      <td>2</td>\n",
       "      <td>BHK</td>\n",
       "    </tr>\n",
       "    <tr>\n",
       "      <th>1</th>\n",
       "      <td>4500000.0</td>\n",
       "      <td>23.83 K</td>\n",
       "      <td>Barrackpore</td>\n",
       "      <td>1400</td>\n",
       "      <td>3.21 K</td>\n",
       "      <td>Virtual Reality</td>\n",
       "      <td>Housing Expert</td>\n",
       "      <td>2</td>\n",
       "      <td>BHK</td>\n",
       "    </tr>\n",
       "    <tr>\n",
       "      <th>2</th>\n",
       "      <td>13500000.0</td>\n",
       "      <td>67.02 K</td>\n",
       "      <td>Santoshpur</td>\n",
       "      <td>2500</td>\n",
       "      <td>5.40 K</td>\n",
       "      <td>AveNew Properties</td>\n",
       "      <td>Housing Expert</td>\n",
       "      <td>2</td>\n",
       "      <td>BHK</td>\n",
       "    </tr>\n",
       "    <tr>\n",
       "      <th>3</th>\n",
       "      <td>6000000.0</td>\n",
       "      <td>31.77 K</td>\n",
       "      <td>Sarsun</td>\n",
       "      <td>1100</td>\n",
       "      <td>5.45 K</td>\n",
       "      <td>Ganapati Real Estate</td>\n",
       "      <td>Housing Expert</td>\n",
       "      <td>2</td>\n",
       "      <td>BHK</td>\n",
       "    </tr>\n",
       "    <tr>\n",
       "      <th>4</th>\n",
       "      <td>5200000.0</td>\n",
       "      <td>27.54 K</td>\n",
       "      <td>Madhyamgram</td>\n",
       "      <td>900</td>\n",
       "      <td>5.78 K</td>\n",
       "      <td>Third Eye Consulting</td>\n",
       "      <td>Housing Expert</td>\n",
       "      <td>2</td>\n",
       "      <td>BHK</td>\n",
       "    </tr>\n",
       "  </tbody>\n",
       "</table>\n",
       "</div>"
      ],
      "text/plain": [
       "   Flat_Price EMI_Starts     Location Total_Sq.ft Price_per_sq.ft  \\\n",
       "0  85000000.0  4.22 Lacs   Ballygunge       4200          20.24 K   \n",
       "1   4500000.0    23.83 K  Barrackpore       1400           3.21 K   \n",
       "2  13500000.0    67.02 K   Santoshpur       2500           5.40 K   \n",
       "3   6000000.0    31.77 K       Sarsun       1100           5.45 K   \n",
       "4   5200000.0    27.54 K  Madhyamgram        900           5.78 K   \n",
       "\n",
       "             Owner_name      Owner_type Rooms Room_Type  \n",
       "0   Abhijit Chakraborty  Housing Expert     2       BHK  \n",
       "1       Virtual Reality  Housing Expert     2       BHK  \n",
       "2     AveNew Properties  Housing Expert     2       BHK  \n",
       "3  Ganapati Real Estate  Housing Expert     2       BHK  \n",
       "4  Third Eye Consulting  Housing Expert     2       BHK  "
      ]
     },
     "execution_count": 35,
     "metadata": {},
     "output_type": "execute_result"
    }
   ],
   "source": [
    "df.head()"
   ]
  },
  {
   "cell_type": "code",
   "execution_count": 36,
   "id": "5a66dbcf",
   "metadata": {
    "execution": {
     "iopub.execute_input": "2024-04-23T17:26:22.130856Z",
     "iopub.status.busy": "2024-04-23T17:26:22.130075Z",
     "iopub.status.idle": "2024-04-23T17:26:22.144823Z",
     "shell.execute_reply": "2024-04-23T17:26:22.143713Z"
    },
    "papermill": {
     "duration": 0.038542,
     "end_time": "2024-04-23T17:26:22.147348",
     "exception": false,
     "start_time": "2024-04-23T17:26:22.108806",
     "status": "completed"
    },
    "tags": []
   },
   "outputs": [
    {
     "data": {
      "text/plain": [
       "0       [4.22, Lacs]\n",
       "1         [23.83, K]\n",
       "2         [67.02, K]\n",
       "3         [31.77, K]\n",
       "4         [27.54, K]\n",
       "            ...     \n",
       "3951       [6.88, K]\n",
       "3952      [74.47, K]\n",
       "3953      [26.48, K]\n",
       "3954      [54.61, K]\n",
       "3955      [15.89, K]\n",
       "Name: EMI_Starts, Length: 3956, dtype: object"
      ]
     },
     "execution_count": 36,
     "metadata": {},
     "output_type": "execute_result"
    }
   ],
   "source": [
    "df[\"EMI_Starts\"].str.split(\" \")"
   ]
  },
  {
   "cell_type": "code",
   "execution_count": null,
   "id": "39bca5c8",
   "metadata": {
    "papermill": {
     "duration": 0.019435,
     "end_time": "2024-04-23T17:26:22.187248",
     "exception": false,
     "start_time": "2024-04-23T17:26:22.167813",
     "status": "completed"
    },
    "tags": []
   },
   "outputs": [],
   "source": []
  },
  {
   "cell_type": "code",
   "execution_count": 37,
   "id": "b945e129",
   "metadata": {
    "execution": {
     "iopub.execute_input": "2024-04-23T17:26:22.228500Z",
     "iopub.status.busy": "2024-04-23T17:26:22.228091Z",
     "iopub.status.idle": "2024-04-23T17:26:23.836643Z",
     "shell.execute_reply": "2024-04-23T17:26:23.835484Z"
    },
    "papermill": {
     "duration": 1.632325,
     "end_time": "2024-04-23T17:26:23.839312",
     "exception": false,
     "start_time": "2024-04-23T17:26:22.206987",
     "status": "completed"
    },
    "tags": []
   },
   "outputs": [],
   "source": [
    "for i in range(df[\"EMI_Starts\"].shape[0]):\n",
    "    if len(df[\"EMI_Starts\"][i].split(\" \"))==2:\n",
    "        if df[\"EMI_Starts\"][i].split(\" \")[1]==\"k\":\n",
    "            df[\"EMI_Starts\"][i]=float(df[\"EMI_Starts\"][i].split(\" \")[0])*1000\n",
    "        else:\n",
    "            df[\"EMI_Starts\"][i]=float(df[\"EMI_Starts\"][i].split(\" \")[0])*100000\n",
    "    else:\n",
    "        df[\"EMI_Starts\"][i]=df[\"EMI_Starts\"][i]"
   ]
  },
  {
   "cell_type": "code",
   "execution_count": 38,
   "id": "2a66d15f",
   "metadata": {
    "execution": {
     "iopub.execute_input": "2024-04-23T17:26:23.881405Z",
     "iopub.status.busy": "2024-04-23T17:26:23.881037Z",
     "iopub.status.idle": "2024-04-23T17:26:23.896505Z",
     "shell.execute_reply": "2024-04-23T17:26:23.895443Z"
    },
    "papermill": {
     "duration": 0.03938,
     "end_time": "2024-04-23T17:26:23.899021",
     "exception": false,
     "start_time": "2024-04-23T17:26:23.859641",
     "status": "completed"
    },
    "tags": []
   },
   "outputs": [
    {
     "data": {
      "text/html": [
       "<div>\n",
       "<style scoped>\n",
       "    .dataframe tbody tr th:only-of-type {\n",
       "        vertical-align: middle;\n",
       "    }\n",
       "\n",
       "    .dataframe tbody tr th {\n",
       "        vertical-align: top;\n",
       "    }\n",
       "\n",
       "    .dataframe thead th {\n",
       "        text-align: right;\n",
       "    }\n",
       "</style>\n",
       "<table border=\"1\" class=\"dataframe\">\n",
       "  <thead>\n",
       "    <tr style=\"text-align: right;\">\n",
       "      <th></th>\n",
       "      <th>Flat_Price</th>\n",
       "      <th>EMI_Starts</th>\n",
       "      <th>Location</th>\n",
       "      <th>Total_Sq.ft</th>\n",
       "      <th>Price_per_sq.ft</th>\n",
       "      <th>Owner_name</th>\n",
       "      <th>Owner_type</th>\n",
       "      <th>Rooms</th>\n",
       "      <th>Room_Type</th>\n",
       "    </tr>\n",
       "  </thead>\n",
       "  <tbody>\n",
       "    <tr>\n",
       "      <th>0</th>\n",
       "      <td>85000000.0</td>\n",
       "      <td>422000.0</td>\n",
       "      <td>Ballygunge</td>\n",
       "      <td>4200</td>\n",
       "      <td>20.24 K</td>\n",
       "      <td>Abhijit Chakraborty</td>\n",
       "      <td>Housing Expert</td>\n",
       "      <td>2</td>\n",
       "      <td>BHK</td>\n",
       "    </tr>\n",
       "    <tr>\n",
       "      <th>1</th>\n",
       "      <td>4500000.0</td>\n",
       "      <td>2383000.0</td>\n",
       "      <td>Barrackpore</td>\n",
       "      <td>1400</td>\n",
       "      <td>3.21 K</td>\n",
       "      <td>Virtual Reality</td>\n",
       "      <td>Housing Expert</td>\n",
       "      <td>2</td>\n",
       "      <td>BHK</td>\n",
       "    </tr>\n",
       "    <tr>\n",
       "      <th>2</th>\n",
       "      <td>13500000.0</td>\n",
       "      <td>6702000.0</td>\n",
       "      <td>Santoshpur</td>\n",
       "      <td>2500</td>\n",
       "      <td>5.40 K</td>\n",
       "      <td>AveNew Properties</td>\n",
       "      <td>Housing Expert</td>\n",
       "      <td>2</td>\n",
       "      <td>BHK</td>\n",
       "    </tr>\n",
       "    <tr>\n",
       "      <th>3</th>\n",
       "      <td>6000000.0</td>\n",
       "      <td>3177000.0</td>\n",
       "      <td>Sarsun</td>\n",
       "      <td>1100</td>\n",
       "      <td>5.45 K</td>\n",
       "      <td>Ganapati Real Estate</td>\n",
       "      <td>Housing Expert</td>\n",
       "      <td>2</td>\n",
       "      <td>BHK</td>\n",
       "    </tr>\n",
       "    <tr>\n",
       "      <th>4</th>\n",
       "      <td>5200000.0</td>\n",
       "      <td>2754000.0</td>\n",
       "      <td>Madhyamgram</td>\n",
       "      <td>900</td>\n",
       "      <td>5.78 K</td>\n",
       "      <td>Third Eye Consulting</td>\n",
       "      <td>Housing Expert</td>\n",
       "      <td>2</td>\n",
       "      <td>BHK</td>\n",
       "    </tr>\n",
       "  </tbody>\n",
       "</table>\n",
       "</div>"
      ],
      "text/plain": [
       "   Flat_Price EMI_Starts     Location Total_Sq.ft Price_per_sq.ft  \\\n",
       "0  85000000.0   422000.0   Ballygunge       4200          20.24 K   \n",
       "1   4500000.0  2383000.0  Barrackpore       1400           3.21 K   \n",
       "2  13500000.0  6702000.0   Santoshpur       2500           5.40 K   \n",
       "3   6000000.0  3177000.0       Sarsun       1100           5.45 K   \n",
       "4   5200000.0  2754000.0  Madhyamgram        900           5.78 K   \n",
       "\n",
       "             Owner_name      Owner_type Rooms Room_Type  \n",
       "0   Abhijit Chakraborty  Housing Expert     2       BHK  \n",
       "1       Virtual Reality  Housing Expert     2       BHK  \n",
       "2     AveNew Properties  Housing Expert     2       BHK  \n",
       "3  Ganapati Real Estate  Housing Expert     2       BHK  \n",
       "4  Third Eye Consulting  Housing Expert     2       BHK  "
      ]
     },
     "execution_count": 38,
     "metadata": {},
     "output_type": "execute_result"
    }
   ],
   "source": [
    "df.head()"
   ]
  },
  {
   "cell_type": "code",
   "execution_count": 39,
   "id": "a619d4cd",
   "metadata": {
    "execution": {
     "iopub.execute_input": "2024-04-23T17:26:23.941431Z",
     "iopub.status.busy": "2024-04-23T17:26:23.941050Z",
     "iopub.status.idle": "2024-04-23T17:26:23.953395Z",
     "shell.execute_reply": "2024-04-23T17:26:23.952300Z"
    },
    "papermill": {
     "duration": 0.036502,
     "end_time": "2024-04-23T17:26:23.955718",
     "exception": false,
     "start_time": "2024-04-23T17:26:23.919216",
     "status": "completed"
    },
    "tags": []
   },
   "outputs": [
    {
     "data": {
      "text/plain": [
       "array(['20.24 K', '3.21 K', '5.40 K', '5.45 K', '5.78 K', '2.67 K',\n",
       "       '3.00 K', '3.42 K', '5.10 K', '7.14 K', '4.44 K', '2.91 K',\n",
       "       '2.60 K', '30.00 K', '3.93 K', '9.33 K', '4.65 K', '3.96 K',\n",
       "       '2.29 K', '5.17 K', '13.13 K', '13.33 K', '4.26 K', '3.40 K',\n",
       "       '3.50 K', '3.64 K', '2.17 K', '514', '3.33 K', '10.30 K', '4.96 K',\n",
       "       '4.00 K', '3.60 K', '3.48 K', '3.75 K', '3.78 K', '4.64 K',\n",
       "       '6.80 K', '9.17 K', '10.00 K', '11.19 K', '8.57 K', '3.06 K',\n",
       "       '4.17 K', '18.33 K', '21.07 K', '4.03 K', '1.61 K', '5.11 K',\n",
       "       '3.41 K', '7.73 K', '2.26 K', '4.22 K', '4.32 K', '4.23 K',\n",
       "       '4.82 K', '4.25 K', '10.83 K', '5.24 K', '10.42 K', '5.83 K',\n",
       "       '3.46 K', '6.22 K', '5.79 K', '18.59 K', '3.72 K', '12.73 K',\n",
       "       '7.64 K', '6.14 K', '12.50 K', '5.80 K', '2.80 K', '2.89 K',\n",
       "       '1.44 K', '3.38 K', '5.38 K', '2.36 K', '6.94 K', '2.71 K',\n",
       "       '3.87 K', '6.48 K', '10.45 K', '5.95 K', '2.16 K', '8.21 K',\n",
       "       '4.63 K', '3.61 K', '3.85 K', '4.06 K', '2.63 K', '7.48 K',\n",
       "       '5.50 K', '7.67 K', '4.95 K', '5.00 K', '3.04 K', '6.67 K',\n",
       "       '6.33 K', '4.72 K', '2.20 K', '4.75 K', '6.55 K', '5.71 K',\n",
       "       '2.53 K', '204', '3.82 K', '10.28 K', '3.56 K', '5.29 K', '2.93 K',\n",
       "       '5.46 K', '3.73 K', '1.28 K', '10.13 K', '3.18 K', '10.71 K',\n",
       "       '25.25 K', '8.08 K', '2.65 K', '6.00 K', '6.88 K', '3.52 K',\n",
       "       '1.56 K', '4.50 K', '2.75 K', '6.42 K', '22.22 K', '7.62 K',\n",
       "       '4.34 K', '3.13 K', '7.65 K', '7.50 K', '12.00 K', '5.55 K',\n",
       "       '4.14 K', '4.10 K', '2.72 K', '6.07 K', '4.13 K', '1.93 K',\n",
       "       '4.91 K', '4.69 K', '3.70 K', '2.86 K', '1.76 K', '2.98 K',\n",
       "       '7.84 K', '3.81 K', '5.04 K', '2.94 K', '3.31 K', '3.12 K',\n",
       "       '3.92 K', '2.69 K', '3.65 K', '1.77 K', '3.45 K', '6.25 K',\n",
       "       '1.83 K', '36.00 K', '11.79 K', '5.67 K', '11.85 K', '4.54 K',\n",
       "       '11.60 K', '5.36 K', '8.33 K', '4.15 K', '1.40 K', '1.64 K',\n",
       "       '10.78 K', '3.17 K', '4.33 K', '2.61 K', '5.22 K', '5.75 K',\n",
       "       '3.83 K', '2.04 K', '5.25 K', '8.67 K', '8.75 K', '9.50 K',\n",
       "       '9.09 K', '8.23 K', '2.11 K', '2.39 K', '4.38 K', '5.66 K',\n",
       "       '5.16 K', '1.80 K', '8.00 K', '2.50 K', '3.54 K', '4.51 K',\n",
       "       '3.67 K', '1.86 K', '8.86 K', '12.33 K', '2.41 K', '4.60 K',\n",
       "       '6.70 K', '11.11 K', '6.60 K', '5.01 K', '4.99 K', '6.79 K',\n",
       "       '9.05 K', '13.19 K', '5.09 K', '10.67 K', '5.21 K', '6.29 K',\n",
       "       '8.74 K', '8.04 K', '2.59 K', '8.22 K', '2.78 K', '6.11 K',\n",
       "       '6.50 K', '2.92 K', '7.33 K', '16.25 K', '18.09 K', '5.33 K',\n",
       "       '8.18 K', '12.22 K', '8.25 K', '33.73 K', '10.40 K', '2.90 K',\n",
       "       '40.00 K', '13.10 K', '15.88 K', '25.33 K', '21.33 K', '10.63 K',\n",
       "       '22.67 K', '12.20 K', '5.42 K', '1.60 K', '3.30 K', '4.09 K',\n",
       "       '3.57 K', '3.59 K', '6.73 K', '2.40 K', '3.47 K', '7.25 K',\n",
       "       '6.69 K', '12.05 K', '2.43 K', '7.81 K', '1.43 K', '2.44 K',\n",
       "       '4.35 K', '4.52 K', '1.50 K', '19.50 K', '350', '4.07 K', '5.90 K',\n",
       "       '3.44 K', '5.57 K', '6.92 K', '1.67 K', '2.83 K', '4.57 K',\n",
       "       '4.40 K', '16.20 K', '2.31 K', '3.02 K', '1.97 K', '2.22 K', '796',\n",
       "       '3.39 K', '10.87 K', '2.33 K', '3.27 K', '3.80 K', '7.95 K',\n",
       "       '7.27 K', '13.21 K', '2.45 K', '10.46 K', '10.68 K', '9.47 K',\n",
       "       '11.33 K', '18.75 K', '4.12 K', '10.11 K', '3.89 K', '5.20 K',\n",
       "       '5.28 K', '3.79 K', '4.16 K', '4.67 K', '3.68 K', '5.06 K',\n",
       "       '5.31 K', '4.86 K', '5.18 K', '7.17 K', '12.91 K', '10.50 K',\n",
       "       '8.59 K', '2.24 K', '2.25 K', '10.51 K', '9.40 K', '8.46 K',\n",
       "       '9.88 K', '10.53 K', '10.26 K', '9.62 K', '4.31 K', '1.59 K',\n",
       "       '2.68 K', '2.74 K', '7.11 K', '4.76 K', '1.33 K', '11.44 K',\n",
       "       '5.23 K', '23.80 K', '2.06 K', '18.57 K', '3.03 K', '10.62 K',\n",
       "       '2.73 K', '12.16 K', '3.23 K', '3.14 K', '3.20 K', '4.85 K',\n",
       "       '24.00 K', '10.77 K', '14.54 K', '17.14 K', '10.82 K', '35.00 K',\n",
       "       '15.00 K', '38.75 K', '2.00 K', '9.80 K', '9.48 K', '4.29 K',\n",
       "       '1.46 K', '9.43 K', '13.53 K', '2.38 K', '33.35 K', '7.08 K',\n",
       "       '8.13 K', '11.25 K', '7.00 K', '5.70 K', '2.62 K', '1.78 K',\n",
       "       '3.09 K', '1.85 K', '2.28 K', '3.22 K', '8.89 K', '9.52 K',\n",
       "       '7.74 K', '5.44 K', '7.04 K', '5.41 K', '8.80 K', '17.20 K',\n",
       "       '3.24 K', '1.92 K', '13.64 K', '7.02 K', '8.40 K', '2.95 K',\n",
       "       '4.21 K', '4.28 K', '806', '13.89 K', '2.34 K', '1.37 K', '4.62 K',\n",
       "       '5.91 K', '16.00 K', '3.88 K', '4.05 K', '6.32 K', '6.19 K',\n",
       "       '15.71 K', '8.51 K', '3.15 K', '6.82 K', '5.86 K', '3.43 K', '406',\n",
       "       '9.14 K', '5.54 K', '8.64 K', '3.71 K', '6.58 K', '10.80 K',\n",
       "       '6.46 K', '5.61 K', '9.25 K', '1.91 K', '12.63 K', '30.55 K',\n",
       "       '2.55 K', '356', '9.41 K', '8.48 K', '6.43 K', '8.28 K', '3.26 K',\n",
       "       '2.64 K', '1.10 K', '21.67 K', '33.33 K', '3.08 K', '1.57 K',\n",
       "       '3.10 K', '5.87 K', '5.76 K', '961', '2.82 K', '13.43 K', '2.14 K',\n",
       "       '6.93 K', '781', '1.00 K', '16.18 K', '2.18 K', '6.31 K', '1.19 K',\n",
       "       '7.22 K', '4.80 K', '9.38 K', '20.00 K', '3.25 K', '2.48 K',\n",
       "       '2.12 K', '2.27 K', '4.70 K', '6.15 K', '2.46 K', '8.93 K',\n",
       "       '1.53 K', '6.95 K', '6.38 K', '7.23 K', '312', '1.51 K', '1.47 K',\n",
       "       '1.48 K', '16.67 K', '5.82 K', '12.70 K', '15.19 K', '14.58 K',\n",
       "       '1.25 K', '10.29 K', '17.50 K', '18.11 K', '1.74 K', '2.77 K',\n",
       "       '16.82 K', '6.40 K', '7.69 K', '2.88 K', '840', '3.95 K', '7.83 K',\n",
       "       '156', '1.22 K', '10.59 K', '7.60 K', '3.05 K', '5.47 K', '1.38 K',\n",
       "       '8.87 K', '16.44 K', '8.41 K', '45.05 K', '2.58 K', '3.58 K',\n",
       "       '9.70 K', '5.60 K', '4.90 K', '2.32 K', '4.18 K', '3.98 K',\n",
       "       '2.13 K', '2.70 K', '21.54 K', '9.79 K', '2.85 K', '500', '600',\n",
       "       '5.96 K', '1.08 K', '7.94 K', '8.78 K', '1.87 K', '4.89 K',\n",
       "       '2.15 K', '3.77 K', '1.04 K', '2.08 K', '1.82 K', '4.41 K',\n",
       "       '6.75 K', '4.81 K', '31.82 K', '7.58 K', '833', '9.67 K', '5.88 K',\n",
       "       '7.75 K', '18.18 K', '991', '1.88 K', '5.77 K', '3.49 K', '2.37 K',\n",
       "       '7.86 K', '555', '3.99 K', '2.42 K', '2.19 K', '1.73 K', '2.76 K',\n",
       "       '4.84 K', '5.26 K', '1.35 K', '12.96 K', '347', '583', '3.74 K',\n",
       "       '8.10 K', '4.49 K', '2.79 K', '17.21 K', '270', '4.97 K',\n",
       "       '18.42 K', '22.73 K', '1.79 K', '1.96 K', '3.19 K', '9.04 K',\n",
       "       '14.93 K', '6.18 K', '4.46 K', '4.27 K', '20.83 K', '1.58 K',\n",
       "       '1.52 K', '714', '5.49 K', '6.86 K', '2.56 K', '1.17 K', '13.42 K',\n",
       "       '30.45 K', '36.67 K', '4.55 K', '987', '3.07 K', '3.29 K',\n",
       "       '26.92 K', '4.20 K', '9.20 K', '7.05 K', '9.87 K', '4.39 K',\n",
       "       '2.35 K', '5.98 K', '4.42 K', '4.08 K', '1.95 K', '9.29 K',\n",
       "       '18.16 K', '11.75 K', '1.39 K', '3.35 K', '14.33 K', '9.72 K',\n",
       "       '8.50 K', '73.33 K', '25.00 K', '11.20 K', '24.26 K', '1.89 K',\n",
       "       '1.68 K', '733', '4.74 K', '14.00 K', '1.36 K', '3.32 K', '3.66 K',\n",
       "       '14.17 K', '1.16 K', '11.80 K', '2.81 K', '32.50 K', '6.51 K',\n",
       "       '5.92 K', '9.08 K', '7.89 K', '4.48 K', '21.60 K', '10.20 K',\n",
       "       '3.28 K', '10.94 K', '5.14 K', '14.29 K', '8.98 K', '7.54 K',\n",
       "       '40.83 K', '7.41 K', '7.06 K', '26.67 K', '27.78 K', '13.85 K',\n",
       "       '17.56 K', '851', '11.07 K', '466', '6.08 K', '5.07 K', '10.19 K',\n",
       "       '11.47 K', '1.27 K', '700', '4.88 K', '13.16 K', '5.64 K',\n",
       "       '2.97 K', '93.75 K', '10.39 K', '1.94 K', '9.15 K', '12.84 K',\n",
       "       '2.30 K', '2.87 K', '7.40 K', '5.27 K', '9.71 K', '1.75 K',\n",
       "       '11.43 K', '3.16 K', '20.93 K', '9.00 K', '8.70 K', '11.67 K',\n",
       "       '13.75 K', '14.81 K', '12.60 K', '9.56 K', '2.57 K', '38.46 K',\n",
       "       '9.23 K', '5.15 K', '2.66 K', '11.00 K', '1.84 K', '902',\n",
       "       '28.00 K', '6.76 K', '9.03 K', '8.56 K', '7.43 K', '6.49 K',\n",
       "       '7.31 K', '5.56 K', '3.53 K', '4.71 K', '636', '3.11 K', '10.91 K',\n",
       "       '12.67 K', '3.36 K', '875', '11.63 K', '2.84 K', '8.52 K',\n",
       "       '16.47 K', '4.43 K', '2.05 K', '10.43 K', '7.78 K', '8.61 K',\n",
       "       '9.26 K', '1.90 K', '6.09 K', '3.69 K', '11.36 K', '4.02 K',\n",
       "       '5.59 K', '4.61 K', '8.95 K', '8.69 K', '7.88 K', '45.45 K',\n",
       "       '8.68 K', '11.73 K', '13.46 K', '2.10 K', '4.78 K', '1.03 K',\n",
       "       '12.86 K', '2.23 K', '15.15 K', '7.34 K', '2.21 K', '7.42 K',\n",
       "       '866'], dtype=object)"
      ]
     },
     "execution_count": 39,
     "metadata": {},
     "output_type": "execute_result"
    }
   ],
   "source": [
    "df[\"Price_per_sq.ft\"].unique()"
   ]
  },
  {
   "cell_type": "code",
   "execution_count": 40,
   "id": "893420cd",
   "metadata": {
    "execution": {
     "iopub.execute_input": "2024-04-23T17:26:23.998678Z",
     "iopub.status.busy": "2024-04-23T17:26:23.997904Z",
     "iopub.status.idle": "2024-04-23T17:26:25.660693Z",
     "shell.execute_reply": "2024-04-23T17:26:25.659560Z"
    },
    "papermill": {
     "duration": 1.687114,
     "end_time": "2024-04-23T17:26:25.663255",
     "exception": false,
     "start_time": "2024-04-23T17:26:23.976141",
     "status": "completed"
    },
    "tags": []
   },
   "outputs": [],
   "source": [
    "for i in range(df[\"Price_per_sq.ft\"].shape[0]):\n",
    "    if len(df[\"Price_per_sq.ft\"][i].split(\" \"))==2:\n",
    "        if df[\"Price_per_sq.ft\"][i].split(\" \")[1]==\"k\":\n",
    "            df[\"Price_per_sq.ft\"][i]=float(df[\"Price_per_sq.ft\"][i].split(\" \")[0])*1000\n",
    "        else:\n",
    "            df[\"Price_per_sq.ft\"][i]=float(df[\"Price_per_sq.ft\"][i].split(\" \")[0])*100000\n",
    "    else:\n",
    "        df[\"Price_per_sq.ft\"][i]=df[\"Price_per_sq.ft\"][i]"
   ]
  },
  {
   "cell_type": "code",
   "execution_count": 41,
   "id": "9ccb1485",
   "metadata": {
    "execution": {
     "iopub.execute_input": "2024-04-23T17:26:25.706239Z",
     "iopub.status.busy": "2024-04-23T17:26:25.705849Z",
     "iopub.status.idle": "2024-04-23T17:26:25.722196Z",
     "shell.execute_reply": "2024-04-23T17:26:25.721032Z"
    },
    "papermill": {
     "duration": 0.040569,
     "end_time": "2024-04-23T17:26:25.724570",
     "exception": false,
     "start_time": "2024-04-23T17:26:25.684001",
     "status": "completed"
    },
    "tags": []
   },
   "outputs": [
    {
     "data": {
      "text/html": [
       "<div>\n",
       "<style scoped>\n",
       "    .dataframe tbody tr th:only-of-type {\n",
       "        vertical-align: middle;\n",
       "    }\n",
       "\n",
       "    .dataframe tbody tr th {\n",
       "        vertical-align: top;\n",
       "    }\n",
       "\n",
       "    .dataframe thead th {\n",
       "        text-align: right;\n",
       "    }\n",
       "</style>\n",
       "<table border=\"1\" class=\"dataframe\">\n",
       "  <thead>\n",
       "    <tr style=\"text-align: right;\">\n",
       "      <th></th>\n",
       "      <th>Flat_Price</th>\n",
       "      <th>EMI_Starts</th>\n",
       "      <th>Location</th>\n",
       "      <th>Total_Sq.ft</th>\n",
       "      <th>Price_per_sq.ft</th>\n",
       "      <th>Owner_name</th>\n",
       "      <th>Owner_type</th>\n",
       "      <th>Rooms</th>\n",
       "      <th>Room_Type</th>\n",
       "    </tr>\n",
       "  </thead>\n",
       "  <tbody>\n",
       "    <tr>\n",
       "      <th>0</th>\n",
       "      <td>85000000.0</td>\n",
       "      <td>422000.0</td>\n",
       "      <td>Ballygunge</td>\n",
       "      <td>4200</td>\n",
       "      <td>2024000.0</td>\n",
       "      <td>Abhijit Chakraborty</td>\n",
       "      <td>Housing Expert</td>\n",
       "      <td>2</td>\n",
       "      <td>BHK</td>\n",
       "    </tr>\n",
       "    <tr>\n",
       "      <th>1</th>\n",
       "      <td>4500000.0</td>\n",
       "      <td>2383000.0</td>\n",
       "      <td>Barrackpore</td>\n",
       "      <td>1400</td>\n",
       "      <td>321000.0</td>\n",
       "      <td>Virtual Reality</td>\n",
       "      <td>Housing Expert</td>\n",
       "      <td>2</td>\n",
       "      <td>BHK</td>\n",
       "    </tr>\n",
       "    <tr>\n",
       "      <th>2</th>\n",
       "      <td>13500000.0</td>\n",
       "      <td>6702000.0</td>\n",
       "      <td>Santoshpur</td>\n",
       "      <td>2500</td>\n",
       "      <td>540000.0</td>\n",
       "      <td>AveNew Properties</td>\n",
       "      <td>Housing Expert</td>\n",
       "      <td>2</td>\n",
       "      <td>BHK</td>\n",
       "    </tr>\n",
       "    <tr>\n",
       "      <th>3</th>\n",
       "      <td>6000000.0</td>\n",
       "      <td>3177000.0</td>\n",
       "      <td>Sarsun</td>\n",
       "      <td>1100</td>\n",
       "      <td>545000.0</td>\n",
       "      <td>Ganapati Real Estate</td>\n",
       "      <td>Housing Expert</td>\n",
       "      <td>2</td>\n",
       "      <td>BHK</td>\n",
       "    </tr>\n",
       "    <tr>\n",
       "      <th>4</th>\n",
       "      <td>5200000.0</td>\n",
       "      <td>2754000.0</td>\n",
       "      <td>Madhyamgram</td>\n",
       "      <td>900</td>\n",
       "      <td>578000.0</td>\n",
       "      <td>Third Eye Consulting</td>\n",
       "      <td>Housing Expert</td>\n",
       "      <td>2</td>\n",
       "      <td>BHK</td>\n",
       "    </tr>\n",
       "  </tbody>\n",
       "</table>\n",
       "</div>"
      ],
      "text/plain": [
       "   Flat_Price EMI_Starts     Location Total_Sq.ft Price_per_sq.ft  \\\n",
       "0  85000000.0   422000.0   Ballygunge       4200        2024000.0   \n",
       "1   4500000.0  2383000.0  Barrackpore       1400         321000.0   \n",
       "2  13500000.0  6702000.0   Santoshpur       2500         540000.0   \n",
       "3   6000000.0  3177000.0       Sarsun       1100         545000.0   \n",
       "4   5200000.0  2754000.0  Madhyamgram        900         578000.0   \n",
       "\n",
       "             Owner_name      Owner_type Rooms Room_Type  \n",
       "0   Abhijit Chakraborty  Housing Expert     2       BHK  \n",
       "1       Virtual Reality  Housing Expert     2       BHK  \n",
       "2     AveNew Properties  Housing Expert     2       BHK  \n",
       "3  Ganapati Real Estate  Housing Expert     2       BHK  \n",
       "4  Third Eye Consulting  Housing Expert     2       BHK  "
      ]
     },
     "execution_count": 41,
     "metadata": {},
     "output_type": "execute_result"
    }
   ],
   "source": [
    "df.head()"
   ]
  },
  {
   "cell_type": "code",
   "execution_count": 42,
   "id": "1deb014f",
   "metadata": {
    "execution": {
     "iopub.execute_input": "2024-04-23T17:26:25.768343Z",
     "iopub.status.busy": "2024-04-23T17:26:25.767933Z",
     "iopub.status.idle": "2024-04-23T17:26:25.776817Z",
     "shell.execute_reply": "2024-04-23T17:26:25.775650Z"
    },
    "papermill": {
     "duration": 0.03354,
     "end_time": "2024-04-23T17:26:25.779162",
     "exception": false,
     "start_time": "2024-04-23T17:26:25.745622",
     "status": "completed"
    },
    "tags": []
   },
   "outputs": [
    {
     "data": {
      "text/plain": [
       "Flat_Price         object\n",
       "EMI_Starts         object\n",
       "Location           object\n",
       "Total_Sq.ft        object\n",
       "Price_per_sq.ft    object\n",
       "Owner_name         object\n",
       "Owner_type         object\n",
       "Rooms              object\n",
       "Room_Type          object\n",
       "dtype: object"
      ]
     },
     "execution_count": 42,
     "metadata": {},
     "output_type": "execute_result"
    }
   ],
   "source": [
    "df.dtypes"
   ]
  },
  {
   "cell_type": "code",
   "execution_count": 43,
   "id": "b5577d7a",
   "metadata": {
    "execution": {
     "iopub.execute_input": "2024-04-23T17:26:25.824193Z",
     "iopub.status.busy": "2024-04-23T17:26:25.823778Z",
     "iopub.status.idle": "2024-04-23T17:26:25.833028Z",
     "shell.execute_reply": "2024-04-23T17:26:25.831688Z"
    },
    "papermill": {
     "duration": 0.033999,
     "end_time": "2024-04-23T17:26:25.835417",
     "exception": false,
     "start_time": "2024-04-23T17:26:25.801418",
     "status": "completed"
    },
    "tags": []
   },
   "outputs": [],
   "source": [
    "df[\"Flat_Price\"]=df[\"Flat_Price\"].astype(float)\n",
    "df[\"EMI_Starts\"]=df[\"EMI_Starts\"].astype(float)\n",
    "df[\"Price_per_sq.ft\"]=df[\"Price_per_sq.ft\"].astype(float)\n",
    "\n",
    "df[\"Rooms\"]=df[\"Rooms\"].astype(int)"
   ]
  },
  {
   "cell_type": "code",
   "execution_count": 44,
   "id": "319dec72",
   "metadata": {
    "execution": {
     "iopub.execute_input": "2024-04-23T17:26:25.879391Z",
     "iopub.status.busy": "2024-04-23T17:26:25.878987Z",
     "iopub.status.idle": "2024-04-23T17:26:25.887536Z",
     "shell.execute_reply": "2024-04-23T17:26:25.886500Z"
    },
    "papermill": {
     "duration": 0.033629,
     "end_time": "2024-04-23T17:26:25.890099",
     "exception": false,
     "start_time": "2024-04-23T17:26:25.856470",
     "status": "completed"
    },
    "tags": []
   },
   "outputs": [
    {
     "data": {
      "text/plain": [
       "Flat_Price         float64\n",
       "EMI_Starts         float64\n",
       "Location            object\n",
       "Total_Sq.ft         object\n",
       "Price_per_sq.ft    float64\n",
       "Owner_name          object\n",
       "Owner_type          object\n",
       "Rooms                int64\n",
       "Room_Type           object\n",
       "dtype: object"
      ]
     },
     "execution_count": 44,
     "metadata": {},
     "output_type": "execute_result"
    }
   ],
   "source": [
    "df.dtypes"
   ]
  },
  {
   "cell_type": "code",
   "execution_count": 45,
   "id": "5bfc66c7",
   "metadata": {
    "execution": {
     "iopub.execute_input": "2024-04-23T17:26:25.935493Z",
     "iopub.status.busy": "2024-04-23T17:26:25.935098Z",
     "iopub.status.idle": "2024-04-23T17:26:25.950999Z",
     "shell.execute_reply": "2024-04-23T17:26:25.950218Z"
    },
    "papermill": {
     "duration": 0.040394,
     "end_time": "2024-04-23T17:26:25.953262",
     "exception": false,
     "start_time": "2024-04-23T17:26:25.912868",
     "status": "completed"
    },
    "tags": []
   },
   "outputs": [
    {
     "data": {
      "text/html": [
       "<div>\n",
       "<style scoped>\n",
       "    .dataframe tbody tr th:only-of-type {\n",
       "        vertical-align: middle;\n",
       "    }\n",
       "\n",
       "    .dataframe tbody tr th {\n",
       "        vertical-align: top;\n",
       "    }\n",
       "\n",
       "    .dataframe thead th {\n",
       "        text-align: right;\n",
       "    }\n",
       "</style>\n",
       "<table border=\"1\" class=\"dataframe\">\n",
       "  <thead>\n",
       "    <tr style=\"text-align: right;\">\n",
       "      <th></th>\n",
       "      <th>Flat_Price</th>\n",
       "      <th>EMI_Starts</th>\n",
       "      <th>Location</th>\n",
       "      <th>Total_Sq.ft</th>\n",
       "      <th>Price_per_sq.ft</th>\n",
       "      <th>Owner_name</th>\n",
       "      <th>Owner_type</th>\n",
       "      <th>Rooms</th>\n",
       "      <th>Room_Type</th>\n",
       "    </tr>\n",
       "  </thead>\n",
       "  <tbody>\n",
       "    <tr>\n",
       "      <th>0</th>\n",
       "      <td>85000000.0</td>\n",
       "      <td>422000.0</td>\n",
       "      <td>Ballygunge</td>\n",
       "      <td>4200</td>\n",
       "      <td>2024000.0</td>\n",
       "      <td>Abhijit Chakraborty</td>\n",
       "      <td>Housing Expert</td>\n",
       "      <td>2</td>\n",
       "      <td>BHK</td>\n",
       "    </tr>\n",
       "    <tr>\n",
       "      <th>1</th>\n",
       "      <td>4500000.0</td>\n",
       "      <td>2383000.0</td>\n",
       "      <td>Barrackpore</td>\n",
       "      <td>1400</td>\n",
       "      <td>321000.0</td>\n",
       "      <td>Virtual Reality</td>\n",
       "      <td>Housing Expert</td>\n",
       "      <td>2</td>\n",
       "      <td>BHK</td>\n",
       "    </tr>\n",
       "    <tr>\n",
       "      <th>2</th>\n",
       "      <td>13500000.0</td>\n",
       "      <td>6702000.0</td>\n",
       "      <td>Santoshpur</td>\n",
       "      <td>2500</td>\n",
       "      <td>540000.0</td>\n",
       "      <td>AveNew Properties</td>\n",
       "      <td>Housing Expert</td>\n",
       "      <td>2</td>\n",
       "      <td>BHK</td>\n",
       "    </tr>\n",
       "    <tr>\n",
       "      <th>3</th>\n",
       "      <td>6000000.0</td>\n",
       "      <td>3177000.0</td>\n",
       "      <td>Sarsun</td>\n",
       "      <td>1100</td>\n",
       "      <td>545000.0</td>\n",
       "      <td>Ganapati Real Estate</td>\n",
       "      <td>Housing Expert</td>\n",
       "      <td>2</td>\n",
       "      <td>BHK</td>\n",
       "    </tr>\n",
       "    <tr>\n",
       "      <th>4</th>\n",
       "      <td>5200000.0</td>\n",
       "      <td>2754000.0</td>\n",
       "      <td>Madhyamgram</td>\n",
       "      <td>900</td>\n",
       "      <td>578000.0</td>\n",
       "      <td>Third Eye Consulting</td>\n",
       "      <td>Housing Expert</td>\n",
       "      <td>2</td>\n",
       "      <td>BHK</td>\n",
       "    </tr>\n",
       "  </tbody>\n",
       "</table>\n",
       "</div>"
      ],
      "text/plain": [
       "   Flat_Price  EMI_Starts     Location Total_Sq.ft  Price_per_sq.ft  \\\n",
       "0  85000000.0    422000.0   Ballygunge       4200         2024000.0   \n",
       "1   4500000.0   2383000.0  Barrackpore       1400          321000.0   \n",
       "2  13500000.0   6702000.0   Santoshpur       2500          540000.0   \n",
       "3   6000000.0   3177000.0       Sarsun       1100          545000.0   \n",
       "4   5200000.0   2754000.0  Madhyamgram        900          578000.0   \n",
       "\n",
       "             Owner_name      Owner_type  Rooms Room_Type  \n",
       "0   Abhijit Chakraborty  Housing Expert      2       BHK  \n",
       "1       Virtual Reality  Housing Expert      2       BHK  \n",
       "2     AveNew Properties  Housing Expert      2       BHK  \n",
       "3  Ganapati Real Estate  Housing Expert      2       BHK  \n",
       "4  Third Eye Consulting  Housing Expert      2       BHK  "
      ]
     },
     "execution_count": 45,
     "metadata": {},
     "output_type": "execute_result"
    }
   ],
   "source": [
    "df.head()"
   ]
  },
  {
   "cell_type": "code",
   "execution_count": null,
   "id": "91a3d43b",
   "metadata": {
    "papermill": {
     "duration": 0.021959,
     "end_time": "2024-04-23T17:26:25.996830",
     "exception": false,
     "start_time": "2024-04-23T17:26:25.974871",
     "status": "completed"
    },
    "tags": []
   },
   "outputs": [],
   "source": []
  }
 ],
 "metadata": {
  "kaggle": {
   "accelerator": "none",
   "dataSources": [
    {
     "datasetId": 1766154,
     "sourceId": 2883223,
     "sourceType": "datasetVersion"
    }
   ],
   "dockerImageVersionId": 30698,
   "isGpuEnabled": false,
   "isInternetEnabled": true,
   "language": "python",
   "sourceType": "notebook"
  },
  "kernelspec": {
   "display_name": "Python 3",
   "language": "python",
   "name": "python3"
  },
  "language_info": {
   "codemirror_mode": {
    "name": "ipython",
    "version": 3
   },
   "file_extension": ".py",
   "mimetype": "text/x-python",
   "name": "python",
   "nbconvert_exporter": "python",
   "pygments_lexer": "ipython3",
   "version": "3.10.13"
  },
  "papermill": {
   "default_parameters": {},
   "duration": 12.796991,
   "end_time": "2024-04-23T17:26:26.437843",
   "environment_variables": {},
   "exception": null,
   "input_path": "__notebook__.ipynb",
   "output_path": "__notebook__.ipynb",
   "parameters": {},
   "start_time": "2024-04-23T17:26:13.640852",
   "version": "2.5.0"
  }
 },
 "nbformat": 4,
 "nbformat_minor": 5
}
